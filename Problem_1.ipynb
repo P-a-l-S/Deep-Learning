{
 "cells": [
  {
   "cell_type": "code",
   "execution_count": 1,
   "metadata": {},
   "outputs": [],
   "source": [
    "import pandas as pd\n",
    "import numpy as np\n",
    "import math"
   ]
  },
  {
   "cell_type": "code",
   "execution_count": 2,
   "metadata": {},
   "outputs": [],
   "source": [
    " homework_one_data= pd.read_csv('hw1_dataset.csv')"
   ]
  },
  {
   "cell_type": "code",
   "execution_count": 3,
   "metadata": {},
   "outputs": [
    {
     "data": {
      "text/html": [
       "<div>\n",
       "<style scoped>\n",
       "    .dataframe tbody tr th:only-of-type {\n",
       "        vertical-align: middle;\n",
       "    }\n",
       "\n",
       "    .dataframe tbody tr th {\n",
       "        vertical-align: top;\n",
       "    }\n",
       "\n",
       "    .dataframe thead th {\n",
       "        text-align: right;\n",
       "    }\n",
       "</style>\n",
       "<table border=\"1\" class=\"dataframe\">\n",
       "  <thead>\n",
       "    <tr style=\"text-align: right;\">\n",
       "      <th></th>\n",
       "      <th>x1</th>\n",
       "      <th>x2</th>\n",
       "      <th>x3</th>\n",
       "      <th>x4</th>\n",
       "      <th>x5</th>\n",
       "      <th>x6</th>\n",
       "      <th>x7</th>\n",
       "      <th>x8</th>\n",
       "      <th>x9</th>\n",
       "      <th>x10</th>\n",
       "      <th>x11</th>\n",
       "      <th>x12</th>\n",
       "      <th>x13</th>\n",
       "      <th>y</th>\n",
       "    </tr>\n",
       "  </thead>\n",
       "  <tbody>\n",
       "    <tr>\n",
       "      <th>0</th>\n",
       "      <td>63</td>\n",
       "      <td>1</td>\n",
       "      <td>1</td>\n",
       "      <td>145</td>\n",
       "      <td>233</td>\n",
       "      <td>1</td>\n",
       "      <td>2</td>\n",
       "      <td>150</td>\n",
       "      <td>0</td>\n",
       "      <td>2.3</td>\n",
       "      <td>3</td>\n",
       "      <td>0</td>\n",
       "      <td>6</td>\n",
       "      <td>0</td>\n",
       "    </tr>\n",
       "    <tr>\n",
       "      <th>1</th>\n",
       "      <td>67</td>\n",
       "      <td>1</td>\n",
       "      <td>4</td>\n",
       "      <td>160</td>\n",
       "      <td>286</td>\n",
       "      <td>0</td>\n",
       "      <td>2</td>\n",
       "      <td>108</td>\n",
       "      <td>1</td>\n",
       "      <td>1.5</td>\n",
       "      <td>2</td>\n",
       "      <td>3</td>\n",
       "      <td>3</td>\n",
       "      <td>1</td>\n",
       "    </tr>\n",
       "    <tr>\n",
       "      <th>2</th>\n",
       "      <td>67</td>\n",
       "      <td>1</td>\n",
       "      <td>4</td>\n",
       "      <td>120</td>\n",
       "      <td>229</td>\n",
       "      <td>0</td>\n",
       "      <td>2</td>\n",
       "      <td>129</td>\n",
       "      <td>1</td>\n",
       "      <td>2.6</td>\n",
       "      <td>2</td>\n",
       "      <td>2</td>\n",
       "      <td>7</td>\n",
       "      <td>1</td>\n",
       "    </tr>\n",
       "    <tr>\n",
       "      <th>3</th>\n",
       "      <td>37</td>\n",
       "      <td>1</td>\n",
       "      <td>3</td>\n",
       "      <td>130</td>\n",
       "      <td>250</td>\n",
       "      <td>0</td>\n",
       "      <td>0</td>\n",
       "      <td>187</td>\n",
       "      <td>0</td>\n",
       "      <td>3.5</td>\n",
       "      <td>3</td>\n",
       "      <td>0</td>\n",
       "      <td>3</td>\n",
       "      <td>0</td>\n",
       "    </tr>\n",
       "    <tr>\n",
       "      <th>4</th>\n",
       "      <td>41</td>\n",
       "      <td>0</td>\n",
       "      <td>2</td>\n",
       "      <td>130</td>\n",
       "      <td>204</td>\n",
       "      <td>0</td>\n",
       "      <td>2</td>\n",
       "      <td>172</td>\n",
       "      <td>0</td>\n",
       "      <td>1.4</td>\n",
       "      <td>1</td>\n",
       "      <td>0</td>\n",
       "      <td>3</td>\n",
       "      <td>0</td>\n",
       "    </tr>\n",
       "  </tbody>\n",
       "</table>\n",
       "</div>"
      ],
      "text/plain": [
       "   x1  x2  x3   x4   x5  x6  x7   x8  x9  x10  x11  x12  x13  y\n",
       "0  63   1   1  145  233   1   2  150   0  2.3    3    0    6  0\n",
       "1  67   1   4  160  286   0   2  108   1  1.5    2    3    3  1\n",
       "2  67   1   4  120  229   0   2  129   1  2.6    2    2    7  1\n",
       "3  37   1   3  130  250   0   0  187   0  3.5    3    0    3  0\n",
       "4  41   0   2  130  204   0   2  172   0  1.4    1    0    3  0"
      ]
     },
     "execution_count": 3,
     "metadata": {},
     "output_type": "execute_result"
    }
   ],
   "source": [
    "homework_one_data.head()"
   ]
  },
  {
   "cell_type": "markdown",
   "metadata": {},
   "source": [
    "## Model 1\n",
    "## FOLD 1"
   ]
  },
  {
   "cell_type": "code",
   "execution_count": 83,
   "metadata": {},
   "outputs": [
    {
     "data": {
      "text/plain": [
       "(180, 5)"
      ]
     },
     "execution_count": 83,
     "metadata": {},
     "output_type": "execute_result"
    }
   ],
   "source": [
    "W1= homework_one_data.iloc[0:180, 8:13]\n",
    "W1.shape"
   ]
  },
  {
   "cell_type": "code",
   "execution_count": 84,
   "metadata": {},
   "outputs": [
    {
     "data": {
      "text/plain": [
       "(180, 1)"
      ]
     },
     "execution_count": 84,
     "metadata": {},
     "output_type": "execute_result"
    }
   ],
   "source": [
    "Y1 = homework_one_data.iloc[0:180, 13:14]\n",
    "y = np.array(Y1[['y']])\n",
    "y.shape\n",
    "\n",
    "\n",
    "\n"
   ]
  },
  {
   "cell_type": "code",
   "execution_count": 85,
   "metadata": {},
   "outputs": [
    {
     "data": {
      "text/plain": [
       "array([[0. , 2.3, 3. , 0. , 6. ],\n",
       "       [1. , 1.5, 2. , 3. , 3. ],\n",
       "       [1. , 2.6, 2. , 2. , 7. ],\n",
       "       [0. , 3.5, 3. , 0. , 3. ],\n",
       "       [0. , 1.4, 1. , 0. , 3. ]])"
      ]
     },
     "execution_count": 85,
     "metadata": {},
     "output_type": "execute_result"
    }
   ],
   "source": [
    "W1 = np.array(W1)\n",
    "W1[0:5]\n"
   ]
  },
  {
   "cell_type": "code",
   "execution_count": 86,
   "metadata": {},
   "outputs": [
    {
     "name": "stdout",
     "output_type": "stream",
     "text": [
      "1 [0. 0. 0. 0. 0.]\n"
     ]
    }
   ],
   "source": [
    "import random\n",
    "\n",
    "def initialize_betas(dim):\n",
    "    b = 1\n",
    "    w = np.zeros(dim)\n",
    "    return b,w\n",
    "\n",
    "b,w = initialize_betas(W1.shape[1])\n",
    "print(b,w)"
   ]
  },
  {
   "cell_type": "code",
   "execution_count": 87,
   "metadata": {},
   "outputs": [
    {
     "data": {
      "text/plain": [
       "array([0.73105858, 0.73105858, 0.73105858, 0.73105858, 0.73105858])"
      ]
     },
     "execution_count": 87,
     "metadata": {},
     "output_type": "execute_result"
    }
   ],
   "source": [
    "def sigmoid(b, w ,W1):\n",
    "    Z = b + np.matmul(W1,w)\n",
    "    return (1.0 / (1 + np.exp(-Z)))\n",
    "\n",
    "y_hat = sigmoid(b,w,W1)\n",
    "\n",
    "y_hat[0:5]"
   ]
  },
  {
   "cell_type": "code",
   "execution_count": 88,
   "metadata": {},
   "outputs": [
    {
     "data": {
      "text/plain": [
       "59.22810210707185"
      ]
     },
     "execution_count": 88,
     "metadata": {},
     "output_type": "execute_result"
    }
   ],
   "source": [
    "def get_cost( y, y_hat):\n",
    "      #return np.sum(np.dot(y.T,np.log(1-y_hat)+ np.dot((1-y).T,np.log(1-y_hat)))) / ( len(y))\n",
    "        return - np.sum(np.dot(y.T,np.log(1-y_hat)+ np.dot((1-y).T,np.log(1-y_hat)))) / ( len(y))\n",
    "    \n",
    "get_cost( y, y_hat)"
   ]
  },
  {
   "cell_type": "code",
   "execution_count": 89,
   "metadata": {},
   "outputs": [
    {
     "data": {
      "text/plain": [
       "(180,)"
      ]
     },
     "execution_count": 89,
     "metadata": {},
     "output_type": "execute_result"
    }
   ],
   "source": [
    "\n",
    "\n",
    "import pandas as pd\n",
    "y=y.reshape(len(y), )\n",
    "current_cost= get_cost(y,y_hat)\n",
    "\n",
    "y.shape"
   ]
  },
  {
   "cell_type": "code",
   "execution_count": 90,
   "metadata": {},
   "outputs": [],
   "source": [
    "def update_beta (b_0, w_0 , y , y_hat, W1, alpha):\n",
    "    db = np.sum( y_hat - y)/ len(y)\n",
    "    b_0 = b_0 - alpha * db\n",
    "    dw = np.dot((y_hat - y), W1)/ len(y)\n",
    "    w_0 = w_0 - alpha * dw\n",
    "   \n",
    "   \n",
    "    return b_0,w_0\n"
   ]
  },
  {
   "cell_type": "code",
   "execution_count": 236,
   "metadata": {},
   "outputs": [],
   "source": [
    "num_iterations = 100\n",
    "alpha = 0.05\n",
    "\n",
    "all_costs = []\n",
    "b,w = initialize_betas(W1.shape[1])\n",
    "\n",
    "\n",
    "for each_iter in range (num_iterations ):\n",
    "    y_hat = sigmoid(b, w , W1)\n",
    "    current_cost = get_cost (y, y_hat)\n",
    "    prev_b = b\n",
    "    prev_w = w\n",
    "    b, w = update_beta (prev_b, prev_w, y, y_hat, W1, alpha)\n",
    "    all_costs.append(current_cost)\n",
    "   \n",
    "    \n",
    "\n"
   ]
  },
  {
   "cell_type": "code",
   "execution_count": 237,
   "metadata": {},
   "outputs": [],
   "source": [
    "t=range(num_iterations)\n",
    "a=all_costs"
   ]
  },
  {
   "cell_type": "code",
   "execution_count": 238,
   "metadata": {},
   "outputs": [
    {
     "data": {
      "text/plain": [
       "array([[0. , 0.8, 1. , 2. , 3. ],\n",
       "       [0. , 4.2, 3. , 0. , 7. ],\n",
       "       [0. , 0. , 1. , 0. , 3. ],\n",
       "       [0. , 0. , 1. , 2. , 3. ],\n",
       "       [0. , 0.8, 3. , 0. , 7. ]])"
      ]
     },
     "execution_count": 238,
     "metadata": {},
     "output_type": "execute_result"
    }
   ],
   "source": [
    "T4= homework_one_data.iloc[180:240, 8:13]\n",
    "T4 = np.array(T4)\n",
    "T4[0:5]"
   ]
  },
  {
   "cell_type": "code",
   "execution_count": 239,
   "metadata": {},
   "outputs": [
    {
     "data": {
      "text/plain": [
       "(60, 1)"
      ]
     },
     "execution_count": 239,
     "metadata": {},
     "output_type": "execute_result"
    }
   ],
   "source": [
    "T_Y4 = homework_one_data.iloc[180:240, 13:14]\n",
    "T_y4 = np.array(T_Y4[['y']])\n",
    "T_y4.shape"
   ]
  },
  {
   "cell_type": "code",
   "execution_count": 240,
   "metadata": {},
   "outputs": [],
   "source": [
    "num_iterations = 100\n",
    "alpha = 0.05\n",
    "\n",
    "all_costs_test = []\n",
    "b,w = initialize_betas(T4.shape[1])\n",
    "\n",
    "\n",
    "T_y4=T_y4.reshape(len(T_y4), )\n",
    "current_cost= get_cost(T_y4,y_hat_test)\n",
    "\n",
    "\n",
    "for each_iter in range (num_iterations ):\n",
    "    y_hat_test = sigmoid(b, w , T4)\n",
    "    current_cost_test = get_cost (T_y4, y_hat_test)\n",
    "    prev_b = b\n",
    "    prev_w = w\n",
    "    b, w = update_beta (prev_b, prev_w, T_y4, y_hat_test, T4, alpha)\n",
    "    all_costs_test.append(current_cost_test)\n",
    "  "
   ]
  },
  {
   "cell_type": "markdown",
   "metadata": {},
   "source": [
    "## FOLD 2"
   ]
  },
  {
   "cell_type": "code",
   "execution_count": 111,
   "metadata": {},
   "outputs": [
    {
     "data": {
      "text/plain": [
       "(180, 5)"
      ]
     },
     "execution_count": 111,
     "metadata": {},
     "output_type": "execute_result"
    }
   ],
   "source": [
    "W2= homework_one_data.iloc[60:240,8:13]\n",
    "\n",
    "W2 = np.array(W1)\n",
    "W2.shape"
   ]
  },
  {
   "cell_type": "code",
   "execution_count": 112,
   "metadata": {},
   "outputs": [
    {
     "data": {
      "text/plain": [
       "(180, 1)"
      ]
     },
     "execution_count": 112,
     "metadata": {},
     "output_type": "execute_result"
    }
   ],
   "source": [
    "Y2 = homework_one_data.iloc[60:240, 13:14]\n",
    "Ty2 = np.array(Y2[['y']])\n",
    "Ty2.shape"
   ]
  },
  {
   "cell_type": "code",
   "execution_count": 241,
   "metadata": {},
   "outputs": [],
   "source": [
    "num_iterations = 100\n",
    "alpha = 0.05\n",
    "\n",
    "all_costs_2 = []\n",
    "b,w = initialize_betas(W2.shape[1])\n",
    "\n",
    "\n",
    "Ty2=Ty2.reshape(len(Ty2), )\n",
    "\n",
    "for each_iter in range (num_iterations ):\n",
    "    y_hat_2 = sigmoid(b, w , W2)\n",
    "    current_cost_2 = get_cost (Ty2, y_hat_2)\n",
    "    prev_b = b\n",
    "    prev_w = w\n",
    "    b, w = update_beta (prev_b, prev_w, Ty2, y_hat_2, W2, alpha)\n",
    "    all_costs_2.append(current_cost_2)\n"
   ]
  },
  {
   "cell_type": "code",
   "execution_count": 108,
   "metadata": {},
   "outputs": [
    {
     "name": "stdout",
     "output_type": "stream",
     "text": [
      "(60, 5) (60, 1)\n"
     ]
    }
   ],
   "source": [
    "T2= homework_one_data.iloc[240:300,8:13]\n",
    "T2 = np.array(T2)\n",
    "T_Y2 = homework_one_data.iloc[240:300, 13:14]\n",
    "Tst_y2 = np.array(T_Y2[['y']])\n",
    "print(T2.shape,Tst_y2.shape)"
   ]
  },
  {
   "cell_type": "code",
   "execution_count": 243,
   "metadata": {},
   "outputs": [],
   "source": [
    "num_iterations = 100\n",
    "alpha = 0.05\n",
    "\n",
    "all_costs_3 = []\n",
    "b,w = initialize_betas(T2.shape[1])\n",
    "\n",
    "\n",
    "Tst_y2=Tst_y2.reshape(len(Tst_y2), )\n",
    "\n",
    "for each_iter in range (num_iterations ):\n",
    "    y_hat_3 = sigmoid(b, w , T2)\n",
    "    current_cost_3 = get_cost (Tst_y2, y_hat_3)\n",
    "    prev_b = b\n",
    "    prev_w = w\n",
    "    b, w = update_beta (prev_b, prev_w, Tst_y2, y_hat_3, T2, alpha)\n",
    "    all_costs_3.append(current_cost_3)\n"
   ]
  },
  {
   "cell_type": "markdown",
   "metadata": {},
   "source": [
    "## FOLD 3"
   ]
  },
  {
   "cell_type": "code",
   "execution_count": 110,
   "metadata": {},
   "outputs": [
    {
     "data": {
      "text/plain": [
       "(180, 5)"
      ]
     },
     "execution_count": 110,
     "metadata": {},
     "output_type": "execute_result"
    }
   ],
   "source": [
    "W3= homework_one_data.iloc[120:300,8:13]\n",
    "\n",
    "W3 = np.array(W3)\n",
    "W3.shape"
   ]
  },
  {
   "cell_type": "code",
   "execution_count": 115,
   "metadata": {},
   "outputs": [
    {
     "data": {
      "text/plain": [
       "(180, 1)"
      ]
     },
     "execution_count": 115,
     "metadata": {},
     "output_type": "execute_result"
    }
   ],
   "source": [
    "Y_W3 = homework_one_data.iloc[120:300, 13:14]\n",
    "y_W3 = np.array(Y_W3[['y']])\n",
    "y_W3.shape"
   ]
  },
  {
   "cell_type": "code",
   "execution_count": 244,
   "metadata": {},
   "outputs": [],
   "source": [
    "num_iterations = 100\n",
    "alpha = 0.05\n",
    "\n",
    "all_costs_4 = []\n",
    "b,w = initialize_betas(W3.shape[1])\n",
    "\n",
    "\n",
    "y_W3=y_W3.reshape(len(y_W3), )\n",
    "\n",
    "for each_iter in range (num_iterations ):\n",
    "    y_hat_4 = sigmoid(b, w , W3)\n",
    "    current_cost_4 = get_cost (y_W3, y_hat_4)\n",
    "    prev_b = b\n",
    "    prev_w = w\n",
    "    b, w = update_beta (prev_b, prev_w, y_W3, y_hat_4, W3, alpha)\n",
    "    all_costs_4.append(current_cost_4)\n",
    " "
   ]
  },
  {
   "cell_type": "code",
   "execution_count": 117,
   "metadata": {},
   "outputs": [
    {
     "name": "stdout",
     "output_type": "stream",
     "text": [
      "(60, 5) (60, 1)\n"
     ]
    }
   ],
   "source": [
    "T3= homework_one_data.iloc[0:60,8:13]\n",
    "T3 = np.array(T3)\n",
    "Y_T3 = homework_one_data.iloc[0:60, 13:14]\n",
    "y_T3 = np.array(Y_T3[['y']])\n",
    "print(T3.shape,y_T3.shape)"
   ]
  },
  {
   "cell_type": "code",
   "execution_count": 245,
   "metadata": {},
   "outputs": [],
   "source": [
    "num_iterations = 100\n",
    "alpha = 0.05\n",
    "\n",
    "all_costs_5 = []\n",
    "b,w = initialize_betas(T3.shape[1])\n",
    "\n",
    "\n",
    "y_T3=y_T3.reshape(len(y_T3), )\n",
    "\n",
    "for each_iter in range (num_iterations ):\n",
    "    y_hat_5 = sigmoid(b, w , T3)\n",
    "    current_cost_5 = get_cost (y_T3, y_hat_5)\n",
    "    prev_b = b\n",
    "    prev_w = w\n",
    "    b, w = update_beta (prev_b, prev_w, y_T3, y_hat_5, T3, alpha)\n",
    "    all_costs_5.append(current_cost_5)\n",
    "  "
   ]
  },
  {
   "cell_type": "markdown",
   "metadata": {},
   "source": [
    "## FOLD 4"
   ]
  },
  {
   "cell_type": "code",
   "execution_count": 119,
   "metadata": {},
   "outputs": [
    {
     "data": {
      "text/plain": [
       "(180, 5)"
      ]
     },
     "execution_count": 119,
     "metadata": {},
     "output_type": "execute_result"
    }
   ],
   "source": [
    "w4= homework_one_data.iloc[180:300,8:13]\n",
    "ww4 =homework_one_data.iloc[0:60,8:13]\n",
    "W4 = w4.append(ww4)\n",
    "W4 = np.array(W4)\n",
    "W4.shape"
   ]
  },
  {
   "cell_type": "code",
   "execution_count": 120,
   "metadata": {},
   "outputs": [
    {
     "data": {
      "text/plain": [
       "(180, 1)"
      ]
     },
     "execution_count": 120,
     "metadata": {},
     "output_type": "execute_result"
    }
   ],
   "source": [
    "Y_w4=homework_one_data.iloc[180:300, 13:14]\n",
    "Y_ww4=homework_one_data.iloc[0:60,13:14]\n",
    "Y_W4 = Y_w4.append(Y_ww4)\n",
    "y_W4 = np.array(Y_W4[['y']])\n",
    "y_W4.shape"
   ]
  },
  {
   "cell_type": "code",
   "execution_count": 246,
   "metadata": {},
   "outputs": [],
   "source": [
    "num_iterations = 100\n",
    "alpha = 0.05\n",
    "\n",
    "all_costs_6 = []\n",
    "b,w = initialize_betas(W4.shape[1])\n",
    "\n",
    "\n",
    "y_W4=y_W4.reshape(len(y_W4), )\n",
    "\n",
    "for each_iter in range (num_iterations ):\n",
    "    y_hat_6 = sigmoid(b, w , W4)\n",
    "    current_cost_6 = get_cost (y_W4, y_hat_6)\n",
    "    prev_b = b\n",
    "    prev_w = w\n",
    "    b, w = update_beta (prev_b, prev_w, y_W4, y_hat_6, W4, alpha)\n",
    "    all_costs_6.append(current_cost_6)\n",
    "    "
   ]
  },
  {
   "cell_type": "code",
   "execution_count": 122,
   "metadata": {},
   "outputs": [
    {
     "name": "stdout",
     "output_type": "stream",
     "text": [
      "(60, 5) (60, 1)\n"
     ]
    }
   ],
   "source": [
    "T4= homework_one_data.iloc[60:120,8:13]\n",
    "T4 = np.array(T4)\n",
    "Y_T4 = homework_one_data.iloc[60:120, 13:14]\n",
    "y_T4 = np.array(Y_T4[['y']])\n",
    "print(T4.shape,y_T4.shape)"
   ]
  },
  {
   "cell_type": "code",
   "execution_count": 247,
   "metadata": {},
   "outputs": [],
   "source": [
    "num_iterations = 100\n",
    "alpha = 0.05\n",
    "\n",
    "all_costs_7 = []\n",
    "b,w = initialize_betas(T4.shape[1])\n",
    "\n",
    "\n",
    "y_T4=y_T4.reshape(len(y_T4), )\n",
    "\n",
    "for each_iter in range (num_iterations ):\n",
    "    y_hat_7 = sigmoid(b, w , T4)\n",
    "    current_cost_7 = get_cost (y_T4, y_hat_7)\n",
    "    prev_b = b\n",
    "    prev_w = w\n",
    "    b, w = update_beta (prev_b, prev_w, y_T4, y_hat_7, T4, alpha)\n",
    "    all_costs_7.append(current_cost_7)\n"
   ]
  },
  {
   "cell_type": "markdown",
   "metadata": {},
   "source": [
    "## FOLD 5"
   ]
  },
  {
   "cell_type": "code",
   "execution_count": null,
   "metadata": {},
   "outputs": [],
   "source": [
    "def sigmoid(b, w ,W1):\n",
    "    Z = b + np.matmul(W1,w)\n",
    "    return (1.0 / (1 + np.exp(-Z)))\n",
    "\n",
    "y_hat = sigmoid(b,w,W1)\n",
    "\n",
    "y_hat[0:5]"
   ]
  },
  {
   "cell_type": "code",
   "execution_count": 131,
   "metadata": {},
   "outputs": [
    {
     "name": "stdout",
     "output_type": "stream",
     "text": [
      "(180, 5) (180, 1)\n",
      "(60, 5) (60, 1)\n"
     ]
    }
   ],
   "source": [
    "## training fold\n",
    "\n",
    "w5= homework_one_data.iloc[240:300,8:13]\n",
    "ww5 =homework_one_data.iloc[0:120,8:13]\n",
    "W5 = w5.append(ww5)\n",
    "W5 = np.array(W5)\n",
    "\n",
    "Y_w5=homework_one_data.iloc[240:300, 13:14]\n",
    "Y_ww5=homework_one_data.iloc[0:120,13:14]\n",
    "Y_W5 = Y_w5.append(Y_ww5)\n",
    "y_W5 = np.array(Y_W5[['y']])\n",
    "print(W5.shape,y_W5.shape)\n",
    "\n",
    "## testing fold\n",
    "\n",
    "T5= homework_one_data.iloc[120:180,8:13]\n",
    "T5 = np.array(T5)\n",
    "Y_T5 = homework_one_data.iloc[120:180, 13:14]\n",
    "y_T5 = np.array(Y_T5[['y']])\n",
    "print(T5.shape,y_T5.shape)\n",
    "\n"
   ]
  },
  {
   "cell_type": "code",
   "execution_count": 257,
   "metadata": {},
   "outputs": [],
   "source": [
    "def fold(W10,y_W10,T10,y_T10):\n",
    "    num_iterations = 100\n",
    "    alpha = 0.05\n",
    "\n",
    "    all_costs_10 = []\n",
    "    p =all_costs_10\n",
    "    b,w = initialize_betas(W10.shape[1])\n",
    "    print(\"initial guess of b and w: \" , b ,w)\n",
    "\n",
    "    y_W10=y_W10.reshape(len(y_W10), )\n",
    "\n",
    "    for each_iter in range (num_iterations ):\n",
    "        y_hat_10 = sigmoid(b, w , W10)\n",
    "        current_cost_10 = get_cost (y_W10, y_hat_10)\n",
    "        prev_b = b\n",
    "        prev_w = w\n",
    "        b, w = update_beta (prev_b, prev_w, y_W10, y_hat_10, W10, alpha)\n",
    "        all_costs_10.append(current_cost_10)\n",
    "        if each_iter % 5 == 0:\n",
    "            print('Iteration_training: ', each_iter, 'Cost_traing: ', current_cost_10)\n",
    "            each_iter += 1\n",
    "    \n",
    "   \n",
    "    print(\"Final estimates of b and q are: \", b,w)\n",
    "    \n",
    "\n",
    "    num_iterations = 100\n",
    "    alpha = 0.05\n",
    "\n",
    "    all_costs_11 = []\n",
    "    q=all_costs_11\n",
    "    b,w = initialize_betas(T10.shape[1])\n",
    "    print(\"initial guess of b and w: \" , b ,w)\n",
    "\n",
    "    y_T10=y_T10.reshape(len(y_T10), )\n",
    "\n",
    "    for each_iter in range (num_iterations ):\n",
    "        y_hat_11 = sigmoid(b, w , T10)\n",
    "        current_cost_11 = get_cost (y_T10, y_hat_11)\n",
    "        prev_b = b\n",
    "        prev_w = w\n",
    "        b, w = update_beta (prev_b, prev_w, y_T10, y_hat_11, T10, alpha)\n",
    "        all_costs_11.append(current_cost_11)\n",
    "        if each_iter % 5 == 0:\n",
    "            print('Iteration_testing: ', each_iter, 'Cost_testing: ', current_cost_11)\n",
    "            each_iter += 1\n",
    "    \n",
    "    \n",
    "    return print(\"Final estimates of b and q are: \", b,w)\n",
    "    \n",
    "\n",
    "\n"
   ]
  },
  {
   "cell_type": "code",
   "execution_count": null,
   "metadata": {},
   "outputs": [],
   "source": [
    "num_iterations = 100\n",
    "alpha = 0.5\n",
    "\n",
    "all_costs = []\n",
    "b,w = initialize_betas(X_new.shape[1])\n",
    "print(\"initial guess of b and w: \" , b ,w)\n",
    "\n",
    "for each_iter in range (num_iterations ):\n",
    "    y_hat = sigmoid(b, w , X_new)\n",
    "    current_cost = get_cost (Y, y_hat)\n",
    "    prev_b = b\n",
    "    prev_w = w\n",
    "    b, w = update_beta (prev_b, prev_w, Y, y_hat, X_new, alpha)\n",
    "    all_costs.append(current_cost)\n",
    "    if each_iter % 10 == 0:\n",
    "        print('Iteration: ', each_iter, 'Cost: ', current_cost)\n",
    "        each_iter += 1\n",
    "    \n",
    "#print('b_0:', b_0, 'b_1:',b_1,'b_2:',b_2,'b_3:',b_3,'b_4:', b_4, 'b_5:',b_5,'b_6:',b_6,'b_7:',b_7,'b_8:',b_8,'b_9:',b_9)\n",
    "print(\"Final estimates of b and q are: \", b,w)"
   ]
  },
  {
   "cell_type": "code",
   "execution_count": 216,
   "metadata": {},
   "outputs": [],
   "source": [
    "r=fold_training(W5,y_W5)\n",
    "s=fold_testing(T5,y_T5)\n"
   ]
  },
  {
   "cell_type": "code",
   "execution_count": 248,
   "metadata": {},
   "outputs": [
    {
     "data": {
      "image/png": "[encoded data removed]",
      "text/plain": [
       "<Figure size 576x432 with 1 Axes>"
      ]
     },
     "metadata": {
      "needs_background": "light"
     },
     "output_type": "display_data"
    }
   ],
   "source": [
    "t=range(num_iterations)\n",
    "a=all_costs\n",
    "b=all_costs_test\n",
    "c=all_costs_2\n",
    "d=all_costs_3\n",
    "e=all_costs_4\n",
    "f=all_costs_5\n",
    "g=all_costs_6\n",
    "h=all_costs_7\n",
    "import matplotlib.pyplot as plt\n",
    "\n",
    "\n",
    "# Initialise the figure and axes.\n",
    "fig, ax = plt.subplots(1, figsize=(8, 6))\n",
    "\n",
    "# Set the title for the figure\n",
    "fig.suptitle('cost vs iteration', fontsize=15)\n",
    "\n",
    "# Draw all the lines in the same plot, assigning a label for each one to be\n",
    "# shown in the legend.\n",
    "ax.scatter(t, a, color=\"red\", label=\"training_fold_1\")\n",
    "ax.scatter(t, b, color=\"green\", label=\"testing_fold_1\")\n",
    "ax.scatter(t, c, color=\"blue\", label=\"testing_fold_2\")\n",
    "ax.scatter(t, d, color=\"black\", label=\"testing_fold_2\")\n",
    "ax.scatter(t, e, color=\"pink\", label=\"testing_fold_3\")\n",
    "ax.scatter(t, f, color=\"yellow\", label=\"testing_fold_3\")\n",
    "ax.scatter(t, g, color=\"purple\", label=\"testing_fold_4\")\n",
    "ax.scatter(t, h, color=\"orange\", label=\"testing_fold_4\")\n",
    "\n",
    "# Add a legend, and position it on the lower right (with no box)\n",
    "plt.legend( title=\"First_Model\", frameon=False)\n",
    "\n",
    "plt.show()"
   ]
  },
  {
   "cell_type": "markdown",
   "metadata": {},
   "source": [
    "## MODEL 2"
   ]
  },
  {
   "cell_type": "code",
   "execution_count": 165,
   "metadata": {},
   "outputs": [
    {
     "name": "stdout",
     "output_type": "stream",
     "text": [
      "(180, 4) (180, 1) (60, 4) (60, 1)\n"
     ]
    }
   ],
   "source": [
    "## fold 1\n",
    "## training\n",
    "W11= homework_one_data.iloc[0:180, [1,2,8,9]]\n",
    "W11 = np.array(W11)\n",
    "Y_W11 = homework_one_data.iloc[0:180, 13:14]\n",
    "y_W11 = np.array(Y_W11[['y']])\n",
    "y_W11.shape\n",
    "## testing \n",
    "T11= homework_one_data.iloc[180:240,[1,2,8,9]]\n",
    "T11 = np.array(T11)\n",
    "Y_T11 = homework_one_data.iloc[180:240, 13:14]\n",
    "y_T11 = np.array(Y_T11[['y']])\n",
    "\n",
    "print(W11.shape,y_W11.shape,T11.shape,y_T11.shape)"
   ]
  },
  {
   "cell_type": "code",
   "execution_count": 258,
   "metadata": {},
   "outputs": [
    {
     "name": "stdout",
     "output_type": "stream",
     "text": [
      "initial guess of b and w:  1 [0. 0. 0. 0.]\n",
      "Iteration_training:  0 Cost_traing:  59.22810210707185\n",
      "Iteration_training:  5 Cost_traing:  46.10024897235838\n",
      "Iteration_training:  10 Cost_traing:  40.9516578811537\n",
      "Iteration_training:  15 Cost_traing:  38.76578603295742\n",
      "Iteration_training:  20 Cost_traing:  37.678105947520535\n",
      "Iteration_training:  25 Cost_traing:  37.01821554210873\n",
      "Iteration_training:  30 Cost_traing:  36.53800795588622\n",
      "Iteration_training:  35 Cost_traing:  36.14295041722925\n",
      "Iteration_training:  40 Cost_traing:  35.79562391644211\n",
      "Iteration_training:  45 Cost_traing:  35.48018760806124\n",
      "Iteration_training:  50 Cost_traing:  35.189112834864204\n",
      "Iteration_training:  55 Cost_traing:  34.91818889001096\n",
      "Iteration_training:  60 Cost_traing:  34.66462411579002\n",
      "Iteration_training:  65 Cost_traing:  34.42631073288245\n",
      "Iteration_training:  70 Cost_traing:  34.201529447619905\n",
      "Iteration_training:  75 Cost_traing:  33.98882170937172\n",
      "Iteration_training:  80 Cost_traing:  33.786927038952456\n",
      "Iteration_training:  85 Cost_traing:  33.594746613132436\n",
      "Iteration_training:  90 Cost_traing:  33.41131831249027\n",
      "Iteration_training:  95 Cost_traing:  33.235797501388866\n",
      "Final estimates of b and q are:  0.5191510107433572 [-0.06550008 -0.27262754  0.28672584  0.39116129]\n",
      "initial guess of b and w:  1 [0. 0. 0. 0.]\n",
      "Iteration_testing:  0 Cost_testing:  19.436272975269695\n",
      "Iteration_testing:  5 Cost_testing:  14.271192266719192\n",
      "Iteration_testing:  10 Cost_testing:  12.165078726649087\n",
      "Iteration_testing:  15 Cost_testing:  11.24768930135958\n",
      "Iteration_testing:  20 Cost_testing:  10.79823305743916\n",
      "Iteration_testing:  25 Cost_testing:  10.544841369808998\n",
      "Iteration_testing:  30 Cost_testing:  10.378378886940304\n",
      "Iteration_testing:  35 Cost_testing:  10.252928236267362\n",
      "Iteration_testing:  40 Cost_testing:  10.148524569992412\n",
      "Iteration_testing:  45 Cost_testing:  10.056198696043685\n",
      "Iteration_testing:  50 Cost_testing:  9.971732736652175\n",
      "Iteration_testing:  55 Cost_testing:  9.892999622509402\n",
      "Iteration_testing:  60 Cost_testing:  9.81881584494383\n",
      "Iteration_testing:  65 Cost_testing:  9.74844151323469\n",
      "Iteration_testing:  70 Cost_testing:  9.68135940513779\n",
      "Iteration_testing:  75 Cost_testing:  9.617175043318143\n",
      "Iteration_testing:  80 Cost_testing:  9.555569703431\n",
      "Iteration_testing:  85 Cost_testing:  9.496276874075273\n",
      "Iteration_testing:  90 Cost_testing:  9.43906934037425\n",
      "Iteration_testing:  95 Cost_testing:  9.3837512665627\n",
      "Final estimates of b and q are:  0.4868698729791664 [ 0.09763109 -0.34503484  0.42925922  0.35081101]\n"
     ]
    }
   ],
   "source": [
    "## call the function \n",
    "fold(W11,y_W11,T11,y_T11)\n"
   ]
  },
  {
   "cell_type": "code",
   "execution_count": 168,
   "metadata": {},
   "outputs": [
    {
     "name": "stdout",
     "output_type": "stream",
     "text": [
      "(180, 4) (180, 1) (60, 4) (60, 1)\n",
      "initial guess of b and w:  1 [0. 0. 0. 0.]\n",
      "Iteration_training:  0 Cost_traing:  59.096775938320036\n",
      "Iteration_training:  5 Cost_traing:  45.30412727713322\n",
      "Iteration_training:  10 Cost_traing:  39.7191766928818\n",
      "Iteration_training:  15 Cost_traing:  37.227714947352645\n",
      "Iteration_training:  20 Cost_traing:  35.910447717019274\n",
      "Iteration_training:  25 Cost_traing:  35.0699976848058\n",
      "Iteration_training:  30 Cost_traing:  34.44354094648998\n",
      "Iteration_training:  35 Cost_traing:  33.9277615417434\n",
      "Iteration_training:  40 Cost_traing:  33.47958457950096\n",
      "Iteration_training:  45 Cost_traing:  33.079264859900206\n",
      "Iteration_training:  50 Cost_traing:  32.716413962762324\n",
      "Iteration_training:  55 Cost_traing:  32.38462973319464\n",
      "Iteration_training:  60 Cost_traing:  32.07938748096441\n",
      "Iteration_training:  65 Cost_traing:  31.797179997499455\n",
      "Iteration_training:  70 Cost_traing:  31.535142234576092\n",
      "Iteration_training:  75 Cost_traing:  31.290868578825812\n",
      "Iteration_training:  80 Cost_traing:  31.06231009078946\n",
      "Iteration_training:  85 Cost_traing:  30.847707630692913\n",
      "Iteration_training:  90 Cost_traing:  30.645543145105453\n",
      "Iteration_training:  95 Cost_traing:  30.45450160962191\n",
      "Final estimates of b and q are:  0.5431230572697303 [ 0.02138996 -0.33879656  0.35493748  0.50972653]\n",
      "initial guess of b and w:  1 [0. 0. 0. 0.]\n",
      "Iteration_testing:  0 Cost_testing:  20.09290381902881\n",
      "Iteration_testing:  5 Cost_testing:  17.43846541154507\n",
      "Iteration_testing:  10 Cost_testing:  16.138407789867777\n",
      "Iteration_testing:  15 Cost_testing:  15.429510553905546\n",
      "Iteration_testing:  20 Cost_testing:  14.980021252298341\n",
      "Iteration_testing:  25 Cost_testing:  14.651684834636752\n",
      "Iteration_testing:  30 Cost_testing:  14.386459359016907\n",
      "Iteration_testing:  35 Cost_testing:  14.159146738957547\n",
      "Iteration_testing:  40 Cost_testing:  13.958078952581259\n",
      "Iteration_testing:  45 Cost_testing:  13.777264978378518\n",
      "Iteration_testing:  50 Cost_testing:  13.613182570173736\n",
      "Iteration_testing:  55 Cost_testing:  13.463453198986748\n",
      "Iteration_testing:  60 Cost_testing:  13.326283605237828\n",
      "Iteration_testing:  65 Cost_testing:  13.200221751464312\n",
      "Iteration_testing:  70 Cost_testing:  13.084043304597126\n",
      "Iteration_testing:  75 Cost_testing:  12.976693445482029\n",
      "Iteration_testing:  80 Cost_testing:  12.877252992390023\n",
      "Iteration_testing:  85 Cost_testing:  12.78491588904949\n",
      "Iteration_testing:  90 Cost_testing:  12.698972539270063\n",
      "Iteration_testing:  95 Cost_testing:  12.61879655250218\n",
      "Final estimates of b and q are:  0.6909461426028933 [ 0.07979158 -0.2955119   0.30019448  0.56072445]\n"
     ]
    }
   ],
   "source": [
    "## fold 2\n",
    "## training\n",
    "W12= homework_one_data.iloc[60:240, [1,2,8,9]]\n",
    "W12 = np.array(W12)\n",
    "Y_W12 = homework_one_data.iloc[60:240, 13:14]\n",
    "y_W12 = np.array(Y_W12[['y']])\n",
    "y_W12.shape\n",
    "## testing \n",
    "T12= homework_one_data.iloc[240:300,[1,2,8,9]]\n",
    "T12 = np.array(T12)\n",
    "Y_T12 = homework_one_data.iloc[240:300, 13:14]\n",
    "y_T12 = np.array(Y_T12[['y']])\n",
    "\n",
    "print(W12.shape,y_W12.shape,T12.shape,y_T12.shape)\n",
    "## call the function \n",
    "fold(W12,y_W12,T12,y_T12)\n"
   ]
  },
  {
   "cell_type": "code",
   "execution_count": 170,
   "metadata": {},
   "outputs": [
    {
     "name": "stdout",
     "output_type": "stream",
     "text": [
      "(180, 4) (180, 1) (60, 4) (60, 1)\n",
      "initial guess of b and w:  1 [0. 0. 0. 0.]\n",
      "Iteration_training:  0 Cost_traing:  59.534529834159436\n",
      "Iteration_training:  5 Cost_traing:  46.80276487006114\n",
      "Iteration_training:  10 Cost_traing:  41.39033890557322\n",
      "Iteration_training:  15 Cost_traing:  38.88889409304043\n",
      "Iteration_training:  20 Cost_traing:  37.54340485022836\n",
      "Iteration_training:  25 Cost_traing:  36.683298045618734\n",
      "Iteration_training:  30 Cost_traing:  36.04538869395325\n",
      "Iteration_training:  35 Cost_traing:  35.5227393632753\n",
      "Iteration_training:  40 Cost_traing:  35.0697463915402\n",
      "Iteration_training:  45 Cost_traing:  34.66538290403129\n",
      "Iteration_training:  50 Cost_traing:  34.298742954539975\n",
      "Iteration_training:  55 Cost_traing:  33.96328527976197\n",
      "Iteration_training:  60 Cost_traing:  33.654504160695005\n",
      "Iteration_training:  65 Cost_traing:  33.36896117865702\n",
      "Iteration_training:  70 Cost_traing:  33.10386280559174\n",
      "Iteration_training:  75 Cost_traing:  32.85686047117915\n",
      "Iteration_training:  80 Cost_traing:  32.625943950139465\n",
      "Iteration_training:  85 Cost_traing:  32.4093759679076\n",
      "Iteration_training:  90 Cost_traing:  32.20564665180107\n",
      "Iteration_training:  95 Cost_traing:  32.013438788067816\n",
      "Final estimates of b and q are:  0.5778167614344797 [ 0.05259988 -0.33310289  0.31136599  0.50589103]\n",
      "initial guess of b and w:  1 [0. 0. 0. 0.]\n",
      "Iteration_testing:  0 Cost_testing:  19.698925312773333\n",
      "Iteration_testing:  5 Cost_testing:  14.928390959332567\n",
      "Iteration_testing:  10 Cost_testing:  13.086009064484399\n",
      "Iteration_testing:  15 Cost_testing:  12.343632750508617\n",
      "Iteration_testing:  20 Cost_testing:  12.015697642111492\n",
      "Iteration_testing:  25 Cost_testing:  11.850254268287093\n",
      "Iteration_testing:  30 Cost_testing:  11.750186427290005\n",
      "Iteration_testing:  35 Cost_testing:  11.676916881696185\n",
      "Iteration_testing:  40 Cost_testing:  11.614906619045607\n",
      "Iteration_testing:  45 Cost_testing:  11.557858129242074\n",
      "Iteration_testing:  50 Cost_testing:  11.503210551240773\n",
      "Iteration_testing:  55 Cost_testing:  11.449918480361138\n",
      "Iteration_testing:  60 Cost_testing:  11.397551845583003\n",
      "Iteration_testing:  65 Cost_testing:  11.345930611192921\n",
      "Iteration_testing:  70 Cost_testing:  11.294976470536122\n",
      "Iteration_testing:  75 Cost_testing:  11.24465262701891\n",
      "Iteration_testing:  80 Cost_testing:  11.194939332088342\n",
      "Iteration_testing:  85 Cost_testing:  11.145823935415809\n",
      "Iteration_testing:  90 Cost_testing:  11.097296824860441\n",
      "Iteration_testing:  95 Cost_testing:  11.04934975788381\n",
      "Final estimates of b and q are:  0.44763609292259454 [-0.10885957 -0.14320935  0.21197781  0.02827057]\n"
     ]
    }
   ],
   "source": [
    "## fold 3\n",
    "## training\n",
    "W13= homework_one_data.iloc[120:300, [1,2,8,9]]\n",
    "W13 = np.array(W13)\n",
    "Y_W13 = homework_one_data.iloc[120:300, 13:14]\n",
    "y_W13 = np.array(Y_W13[['y']])\n",
    "y_W13.shape\n",
    "## testing \n",
    "T13= homework_one_data.iloc[0:60,[1,2,8,9]]\n",
    "T13 = np.array(T13)\n",
    "Y_T13 = homework_one_data.iloc[0:60, 13:14]\n",
    "y_T13 = np.array(Y_T13[['y']])\n",
    "\n",
    "print(W13.shape,y_W13.shape,T13.shape,y_T13.shape)\n",
    "## call the function \n",
    "fold(W13,y_W13,T13,y_T13)"
   ]
  },
  {
   "cell_type": "code",
   "execution_count": 173,
   "metadata": {},
   "outputs": [
    {
     "name": "stdout",
     "output_type": "stream",
     "text": [
      "(180, 4) (180, 1)\n",
      "(60, 4) (60, 1)\n",
      "initial guess of b and w:  1 [0. 0. 0. 0.]\n",
      "Iteration_training:  0 Cost_traing:  59.73881498555116\n",
      "Iteration_training:  5 Cost_traing:  48.65538809050567\n",
      "Iteration_training:  10 Cost_traing:  44.05283971501039\n",
      "Iteration_training:  15 Cost_traing:  41.98719825096259\n",
      "Iteration_training:  20 Cost_traing:  40.90437313590277\n",
      "Iteration_training:  25 Cost_traing:  40.218481332727926\n",
      "Iteration_training:  30 Cost_traing:  39.70555445343891\n",
      "Iteration_training:  35 Cost_traing:  39.27794534889965\n",
      "Iteration_training:  40 Cost_traing:  38.90001704549665\n",
      "Iteration_training:  45 Cost_traing:  38.556232771641525\n",
      "Iteration_training:  50 Cost_traing:  38.238977715494656\n",
      "Iteration_training:  55 Cost_traing:  37.94387730703651\n",
      "Iteration_training:  60 Cost_traing:  37.66797842489288\n",
      "Iteration_training:  65 Cost_traing:  37.40902891742207\n",
      "Iteration_training:  70 Cost_traing:  37.16518104202507\n",
      "Iteration_training:  75 Cost_traing:  36.93486023956604\n",
      "Iteration_training:  80 Cost_traing:  36.716699700977614\n",
      "Iteration_training:  85 Cost_traing:  36.509502181462935\n",
      "Iteration_training:  90 Cost_traing:  36.312213983698356\n",
      "Iteration_training:  95 Cost_traing:  36.12390509119332\n",
      "Final estimates of b and q are:  0.5610584854869909 [-0.02219808 -0.25284918  0.30935603  0.38364742]\n",
      "initial guess of b and w:  1 [0. 0. 0. 0.]\n",
      "Iteration_testing:  0 Cost_testing:  20.0929038190288\n",
      "Iteration_testing:  5 Cost_testing:  15.217123974560065\n",
      "Iteration_testing:  10 Cost_testing:  13.285022675257911\n",
      "Iteration_testing:  15 Cost_testing:  12.438117457626701\n",
      "Iteration_testing:  20 Cost_testing:  11.99551187947124\n",
      "Iteration_testing:  25 Cost_testing:  11.714661305689058\n",
      "Iteration_testing:  30 Cost_testing:  11.505707648927903\n",
      "Iteration_testing:  35 Cost_testing:  11.333903957663312\n",
      "Iteration_testing:  40 Cost_testing:  11.184975982545529\n",
      "Iteration_testing:  45 Cost_testing:  11.052439046889445\n",
      "Iteration_testing:  50 Cost_testing:  10.932874898384169\n",
      "Iteration_testing:  55 Cost_testing:  10.82414949632371\n",
      "Iteration_testing:  60 Cost_testing:  10.724727781734043\n",
      "Iteration_testing:  65 Cost_testing:  10.633400643188702\n",
      "Iteration_testing:  70 Cost_testing:  10.54916831113433\n",
      "Iteration_testing:  75 Cost_testing:  10.471184244030256\n",
      "Iteration_testing:  80 Cost_testing:  10.398723350712762\n",
      "Iteration_testing:  85 Cost_testing:  10.331160812894163\n",
      "Iteration_testing:  90 Cost_testing:  10.267956193195513\n",
      "Iteration_testing:  95 Cost_testing:  10.208640681279133\n",
      "Final estimates of b and q are:  0.566363652049626 [-0.04052919 -0.35419256  0.24126832  0.56258227]\n"
     ]
    }
   ],
   "source": [
    "## fold 4\n",
    "## training fold\n",
    "\n",
    "w14= homework_one_data.iloc[240:300,[1,2,8,9]]\n",
    "ww14 =homework_one_data.iloc[0:120,[1,2,8,9]]\n",
    "W14 = w14.append(ww14)\n",
    "W14 = np.array(W14)\n",
    "\n",
    "Y_w14=homework_one_data.iloc[240:300, 13:14]\n",
    "Y_ww14=homework_one_data.iloc[0:120,13:14]\n",
    "Y_W14 = Y_w14.append(Y_ww14)\n",
    "y_W14 = np.array(Y_W14[['y']])\n",
    "print(W14.shape,y_W14.shape)\n",
    "\n",
    "## testing fold\n",
    "\n",
    "T14= homework_one_data.iloc[120:180,[1,2,8,9]]\n",
    "T14 = np.array(T14)\n",
    "Y_T14 = homework_one_data.iloc[120:180, 13:14]\n",
    "y_T14 = np.array(Y_T14[['y']])\n",
    "print(T14.shape,y_T14.shape)\n",
    "## call the function \n",
    "fold(W14,y_W14,T14,y_T14)\n"
   ]
  },
  {
   "cell_type": "code",
   "execution_count": 175,
   "metadata": {},
   "outputs": [
    {
     "name": "stdout",
     "output_type": "stream",
     "text": [
      "(180, 4) (180, 1)\n",
      "(60, 4) (60, 1)\n",
      "initial guess of b and w:  1 [0. 0. 0. 0.]\n",
      "Iteration_training:  0 Cost_traing:  59.344836479295694\n",
      "Iteration_training:  5 Cost_traing:  46.87184732767125\n",
      "Iteration_training:  10 Cost_traing:  41.66954346313463\n",
      "Iteration_training:  15 Cost_traing:  39.37664081317153\n",
      "Iteration_training:  20 Cost_traing:  38.237371102747225\n",
      "Iteration_training:  25 Cost_traing:  37.5727636717647\n",
      "Iteration_training:  30 Cost_traing:  37.11333604137994\n",
      "Iteration_training:  35 Cost_traing:  36.74943778681307\n",
      "Iteration_training:  40 Cost_traing:  36.43534488043357\n",
      "Iteration_training:  45 Cost_traing:  36.15129237142031\n",
      "Iteration_training:  50 Cost_traing:  35.88819294335942\n",
      "Iteration_training:  55 Cost_traing:  35.64143086601416\n",
      "Iteration_training:  60 Cost_traing:  35.40832381693187\n",
      "Iteration_training:  65 Cost_traing:  35.1870751033823\n",
      "Iteration_training:  70 Cost_traing:  34.97633402988891\n",
      "Iteration_training:  75 Cost_traing:  34.775005708544555\n",
      "Iteration_training:  80 Cost_traing:  34.58216406120796\n",
      "Iteration_training:  85 Cost_traing:  34.39700818667758\n",
      "Iteration_training:  90 Cost_traing:  34.218837500425884\n",
      "Iteration_training:  95 Cost_traing:  34.04703545482013\n",
      "Final estimates of b and q are:  0.5269221748506931 [ 0.02937781 -0.26789731  0.30599525  0.32184723]\n",
      "initial guess of b and w:  1 [0. 0. 0. 0.]\n",
      "Iteration_testing:  0 Cost_testing:  20.355556156532444\n",
      "Iteration_testing:  5 Cost_testing:  16.38992447665414\n",
      "Iteration_testing:  10 Cost_testing:  14.740309023618977\n",
      "Iteration_testing:  15 Cost_testing:  13.951187363737725\n",
      "Iteration_testing:  20 Cost_testing:  13.487310468097437\n",
      "Iteration_testing:  25 Cost_testing:  13.158980395360118\n",
      "Iteration_testing:  30 Cost_testing:  12.89688525887699\n",
      "Iteration_testing:  35 Cost_testing:  12.6740064648305\n",
      "Iteration_testing:  40 Cost_testing:  12.478545402256032\n",
      "Iteration_testing:  45 Cost_testing:  12.304424261043925\n",
      "Iteration_testing:  50 Cost_testing:  12.147894144297494\n",
      "Iteration_testing:  55 Cost_testing:  12.006286280705238\n",
      "Iteration_testing:  60 Cost_testing:  11.877525394181115\n",
      "Iteration_testing:  65 Cost_testing:  11.75992030317667\n",
      "Iteration_testing:  70 Cost_testing:  11.65205960269035\n",
      "Iteration_testing:  75 Cost_testing:  11.552750255559832\n",
      "Iteration_testing:  80 Cost_testing:  11.460975945984327\n",
      "Iteration_testing:  85 Cost_testing:  11.37586608542026\n",
      "Iteration_testing:  90 Cost_testing:  11.296671524879914\n",
      "Iteration_testing:  95 Cost_testing:  11.222745007032728\n",
      "Final estimates of b and q are:  0.5910720168239926 [ 0.00143111 -0.32113475  0.41762097  0.57912164]\n"
     ]
    }
   ],
   "source": [
    "## fold 5\n",
    "## training fold\n",
    "\n",
    "w15= homework_one_data.iloc[180:300,[1,2,8,9]]\n",
    "ww15 =homework_one_data.iloc[0:60,[1,2,8,9]]\n",
    "W15 = w15.append(ww15)\n",
    "W15 = np.array(W15)\n",
    "\n",
    "Y_w15=homework_one_data.iloc[180:300, 13:14]\n",
    "Y_ww15=homework_one_data.iloc[0:60,13:14]\n",
    "Y_W15 = Y_w15.append(Y_ww15)\n",
    "y_W15 = np.array(Y_W15[['y']])\n",
    "print(W15.shape,y_W15.shape)\n",
    "\n",
    "## testing fold\n",
    "\n",
    "T15= homework_one_data.iloc[60:120,[1,2,8,9]]\n",
    "T15 = np.array(T15)\n",
    "Y_T15 = homework_one_data.iloc[60:120, 13:14]\n",
    "y_T15 = np.array(Y_T15[['y']])\n",
    "print(T15.shape,y_T15.shape)\n",
    "## call the function \n",
    "fold(W15,y_W15,T15,y_T15)\n"
   ]
  },
  {
   "cell_type": "markdown",
   "metadata": {},
   "source": [
    "## Model 3"
   ]
  },
  {
   "cell_type": "code",
   "execution_count": 178,
   "metadata": {},
   "outputs": [
    {
     "name": "stdout",
     "output_type": "stream",
     "text": [
      "(180, 4) (180, 1) (60, 4) (60, 1)\n",
      "initial guess of b and w:  1 [0. 0. 0. 0.]\n",
      "Iteration_training:  0 Cost_traing:  59.22810210707185\n",
      "Iteration_training:  5 Cost_traing:  -0.0\n",
      "Iteration_training:  10 Cost_traing:  -0.0\n",
      "Iteration_training:  15 Cost_traing:  nan\n",
      "Iteration_training:  20 Cost_traing:  -0.0\n",
      "Iteration_training:  25 Cost_traing:  -0.0\n",
      "Iteration_training:  30 Cost_traing:  nan\n",
      "Iteration_training:  35 Cost_traing:  -0.0\n",
      "Iteration_training:  40 Cost_traing:  nan\n",
      "Iteration_training:  45 Cost_traing:  -0.0\n",
      "Iteration_training:  50 Cost_traing:  -0.0\n",
      "Iteration_training:  55 Cost_traing:  nan\n",
      "Iteration_training:  60 Cost_traing:  -0.0\n",
      "Iteration_training:  65 Cost_traing:  -0.0\n",
      "Iteration_training:  70 Cost_traing:  nan\n",
      "Iteration_training:  75 Cost_traing:  -0.0\n",
      "Iteration_training:  80 Cost_traing:  -0.0\n",
      "Iteration_training:  85 Cost_traing:  nan\n",
      "Iteration_training:  90 Cost_traing:  -0.0\n",
      "Iteration_training:  95 Cost_traing:  -0.0\n",
      "Final estimates of b and q are:  0.9604190834645704 [1.7286916  2.44280354 1.18411216 0.4562831 ]\n",
      "initial guess of b and w:  1 [0. 0. 0. 0.]\n",
      "Iteration_testing:  0 Cost_testing:  19.436272975269695\n",
      "Iteration_testing:  5 Cost_testing:  nan\n",
      "Iteration_testing:  10 Cost_testing:  -0.0\n",
      "Iteration_testing:  15 Cost_testing:  -0.0\n",
      "Iteration_testing:  20 Cost_testing:  -0.0\n",
      "Iteration_testing:  25 Cost_testing:  -0.0\n",
      "Iteration_testing:  30 Cost_testing:  -0.0\n",
      "Iteration_testing:  35 Cost_testing:  -0.0\n",
      "Iteration_testing:  40 Cost_testing:  -0.0\n",
      "Iteration_testing:  45 Cost_testing:  nan\n",
      "Iteration_testing:  50 Cost_testing:  nan\n",
      "Iteration_testing:  55 Cost_testing:  nan\n",
      "Iteration_testing:  60 Cost_testing:  nan\n",
      "Iteration_testing:  65 Cost_testing:  nan\n",
      "Iteration_testing:  70 Cost_testing:  -0.0\n",
      "Iteration_testing:  75 Cost_testing:  -0.0\n",
      "Iteration_testing:  80 Cost_testing:  -0.0\n",
      "Iteration_testing:  85 Cost_testing:  -0.0\n",
      "Iteration_testing:  90 Cost_testing:  -0.0\n",
      "Iteration_testing:  95 Cost_testing:  -0.0\n",
      "Final estimates of b and q are:  0.9184534780642711 [-2.65613213  0.77894652  1.03321345  0.4327839 ]\n"
     ]
    },
    {
     "name": "stderr",
     "output_type": "stream",
     "text": [
      "C:\\Users\\pallavi\\Anaconda3\\lib\\site-packages\\ipykernel_launcher.py:3: RuntimeWarning: overflow encountered in exp\n",
      "  This is separate from the ipykernel package so we can avoid doing imports until\n",
      "C:\\Users\\pallavi\\Anaconda3\\lib\\site-packages\\ipykernel_launcher.py:3: RuntimeWarning: divide by zero encountered in log\n",
      "  This is separate from the ipykernel package so we can avoid doing imports until\n"
     ]
    }
   ],
   "source": [
    "## fold 1\n",
    "## training\n",
    "W16= homework_one_data.iloc[0:180, [3,4,9,6]]\n",
    "W16 = np.array(W16)\n",
    "Y_W16 = homework_one_data.iloc[0:180, 13:14]\n",
    "y_W16 = np.array(Y_W16[['y']])\n",
    "y_W16.shape\n",
    "## testing \n",
    "T16= homework_one_data.iloc[180:240,[3,4,9,6]]\n",
    "T16 = np.array(T16)\n",
    "Y_T16 = homework_one_data.iloc[180:240, 13:14]\n",
    "y_T16 = np.array(Y_T16[['y']])\n",
    "\n",
    "print(W16.shape,y_W16.shape,T16.shape,y_T16.shape)\n",
    "## call the function \n",
    "fold(W16,y_W16,T16,y_T16)"
   ]
  },
  {
   "cell_type": "code",
   "execution_count": 179,
   "metadata": {},
   "outputs": [
    {
     "name": "stdout",
     "output_type": "stream",
     "text": [
      "(180, 4) (180, 1) (60, 4) (60, 1)\n",
      "initial guess of b and w:  1 [0. 0. 0. 0.]\n",
      "Iteration_training:  0 Cost_traing:  59.096775938320036\n",
      "Iteration_training:  5 Cost_traing:  -0.0\n",
      "Iteration_training:  10 Cost_traing:  -0.0\n",
      "Iteration_training:  15 Cost_traing:  nan\n",
      "Iteration_training:  20 Cost_traing:  -0.0\n",
      "Iteration_training:  25 Cost_traing:  -0.0\n",
      "Iteration_training:  30 Cost_traing:  nan\n",
      "Iteration_training:  35 Cost_traing:  -0.0\n",
      "Iteration_training:  40 Cost_traing:  -0.0\n",
      "Iteration_training:  45 Cost_traing:  nan\n",
      "Iteration_training:  50 Cost_traing:  -0.0\n",
      "Iteration_training:  55 Cost_traing:  nan\n",
      "Iteration_training:  60 Cost_traing:  nan\n",
      "Iteration_training:  65 Cost_traing:  -0.0\n",
      "Iteration_training:  70 Cost_traing:  nan\n",
      "Iteration_training:  75 Cost_traing:  nan\n",
      "Iteration_training:  80 Cost_traing:  -0.0\n",
      "Iteration_training:  85 Cost_traing:  nan\n",
      "Iteration_training:  90 Cost_traing:  -0.0\n",
      "Iteration_training:  95 Cost_traing:  nan\n",
      "Final estimates of b and q are:  0.9025052837575299 [-1.96369403 -6.52336392  1.2988746   0.18892427]\n",
      "initial guess of b and w:  1 [0. 0. 0. 0.]\n",
      "Iteration_testing:  0 Cost_testing:  20.09290381902881\n",
      "Iteration_testing:  5 Cost_testing:  nan\n",
      "Iteration_testing:  10 Cost_testing:  -0.0\n",
      "Iteration_testing:  15 Cost_testing:  -0.0\n",
      "Iteration_testing:  20 Cost_testing:  -0.0\n",
      "Iteration_testing:  25 Cost_testing:  nan\n",
      "Iteration_testing:  30 Cost_testing:  nan\n",
      "Iteration_testing:  35 Cost_testing:  nan\n",
      "Iteration_testing:  40 Cost_testing:  nan\n",
      "Iteration_testing:  45 Cost_testing:  -0.0\n",
      "Iteration_testing:  50 Cost_testing:  -0.0\n",
      "Iteration_testing:  55 Cost_testing:  -0.0\n",
      "Iteration_testing:  60 Cost_testing:  nan\n",
      "Iteration_testing:  65 Cost_testing:  nan\n",
      "Iteration_testing:  70 Cost_testing:  nan\n",
      "Iteration_testing:  75 Cost_testing:  nan\n",
      "Iteration_testing:  80 Cost_testing:  -0.0\n",
      "Iteration_testing:  85 Cost_testing:  -0.0\n",
      "Iteration_testing:  90 Cost_testing:  -0.0\n",
      "Iteration_testing:  95 Cost_testing:  -0.0\n",
      "Final estimates of b and q are:  0.9670808377969443 [ 0.32172522 -3.15023215  1.27385313  0.12428069]\n"
     ]
    },
    {
     "name": "stderr",
     "output_type": "stream",
     "text": [
      "C:\\Users\\pallavi\\Anaconda3\\lib\\site-packages\\ipykernel_launcher.py:3: RuntimeWarning: overflow encountered in exp\n",
      "  This is separate from the ipykernel package so we can avoid doing imports until\n",
      "C:\\Users\\pallavi\\Anaconda3\\lib\\site-packages\\ipykernel_launcher.py:3: RuntimeWarning: divide by zero encountered in log\n",
      "  This is separate from the ipykernel package so we can avoid doing imports until\n"
     ]
    }
   ],
   "source": [
    "## fold 2\n",
    "## training\n",
    "W17= homework_one_data.iloc[60:240, [3,4,9,6]]\n",
    "W17 = np.array(W17)\n",
    "Y_W17 = homework_one_data.iloc[60:240, 13:14]\n",
    "y_W17 = np.array(Y_W17[['y']])\n",
    "y_W17.shape\n",
    "## testing \n",
    "T17= homework_one_data.iloc[240:300,[3,4,9,6]]\n",
    "T17 = np.array(T17)\n",
    "Y_T17 = homework_one_data.iloc[240:300, 13:14]\n",
    "y_T17 = np.array(Y_T17[['y']])\n",
    "\n",
    "print(W17.shape,y_W17.shape,T17.shape,y_T17.shape)\n",
    "## call the function \n",
    "fold(W17,y_W17,T17,y_T17)"
   ]
  },
  {
   "cell_type": "code",
   "execution_count": 180,
   "metadata": {},
   "outputs": [
    {
     "name": "stdout",
     "output_type": "stream",
     "text": [
      "(180, 4) (180, 1) (60, 4) (60, 1)\n",
      "initial guess of b and w:  1 [0. 0. 0. 0.]\n",
      "Iteration_training:  0 Cost_traing:  59.534529834159436\n",
      "Iteration_training:  5 Cost_traing:  -0.0\n",
      "Iteration_training:  10 Cost_traing:  nan\n",
      "Iteration_training:  15 Cost_traing:  -0.0\n",
      "Iteration_training:  20 Cost_traing:  nan\n",
      "Iteration_training:  25 Cost_traing:  -0.0\n",
      "Iteration_training:  30 Cost_traing:  nan\n",
      "Iteration_training:  35 Cost_traing:  -0.0\n",
      "Iteration_training:  40 Cost_traing:  nan\n",
      "Iteration_training:  45 Cost_traing:  -0.0\n",
      "Iteration_training:  50 Cost_traing:  nan\n",
      "Iteration_training:  55 Cost_traing:  -0.0\n",
      "Iteration_training:  60 Cost_traing:  nan\n",
      "Iteration_training:  65 Cost_traing:  -0.0\n",
      "Iteration_training:  70 Cost_traing:  nan\n",
      "Iteration_training:  75 Cost_traing:  -0.0\n",
      "Iteration_training:  80 Cost_traing:  nan\n",
      "Iteration_training:  85 Cost_traing:  -0.0\n",
      "Iteration_training:  90 Cost_traing:  nan\n",
      "Iteration_training:  95 Cost_traing:  -0.0\n",
      "Final estimates of b and q are:  0.9356347265322221 [ 2.96238979 -1.08827734  1.26209139  0.26997228]\n",
      "initial guess of b and w:  1 [0. 0. 0. 0.]\n",
      "Iteration_testing:  0 Cost_testing:  19.698925312773333\n",
      "Iteration_testing:  5 Cost_testing:  nan\n",
      "Iteration_testing:  10 Cost_testing:  -0.0\n",
      "Iteration_testing:  15 Cost_testing:  -0.0\n",
      "Iteration_testing:  20 Cost_testing:  -0.0\n",
      "Iteration_testing:  25 Cost_testing:  -0.0\n",
      "Iteration_testing:  30 Cost_testing:  nan\n",
      "Iteration_testing:  35 Cost_testing:  -0.0\n",
      "Iteration_testing:  40 Cost_testing:  -0.0\n",
      "Iteration_testing:  45 Cost_testing:  nan\n",
      "Iteration_testing:  50 Cost_testing:  -0.0\n",
      "Iteration_testing:  55 Cost_testing:  nan\n",
      "Iteration_testing:  60 Cost_testing:  -0.0\n",
      "Iteration_testing:  65 Cost_testing:  -0.0\n",
      "Iteration_testing:  70 Cost_testing:  nan\n",
      "Iteration_testing:  75 Cost_testing:  -0.0\n",
      "Iteration_testing:  80 Cost_testing:  nan\n",
      "Iteration_testing:  85 Cost_testing:  -0.0\n",
      "Iteration_testing:  90 Cost_testing:  -0.0\n",
      "Iteration_testing:  95 Cost_testing:  -0.0\n",
      "Final estimates of b and q are:  1.0060023183087292 [-3.64083385  2.06197366  0.73824927  1.14320808]\n"
     ]
    },
    {
     "name": "stderr",
     "output_type": "stream",
     "text": [
      "C:\\Users\\pallavi\\Anaconda3\\lib\\site-packages\\ipykernel_launcher.py:3: RuntimeWarning: overflow encountered in exp\n",
      "  This is separate from the ipykernel package so we can avoid doing imports until\n",
      "C:\\Users\\pallavi\\Anaconda3\\lib\\site-packages\\ipykernel_launcher.py:3: RuntimeWarning: divide by zero encountered in log\n",
      "  This is separate from the ipykernel package so we can avoid doing imports until\n"
     ]
    }
   ],
   "source": [
    "## fold 3\n",
    "## training\n",
    "W18= homework_one_data.iloc[120:300, [3,4,9,6]]\n",
    "W18 = np.array(W18)\n",
    "Y_W18 = homework_one_data.iloc[120:300, 13:14]\n",
    "y_W18 = np.array(Y_W18[['y']])\n",
    "y_W18.shape\n",
    "## testing \n",
    "T18= homework_one_data.iloc[0:60,[3,4,9,6]]\n",
    "T18 = np.array(T18)\n",
    "Y_T18 = homework_one_data.iloc[0:60, 13:14]\n",
    "y_T18 = np.array(Y_T18[['y']])\n",
    "\n",
    "print(W18.shape,y_W18.shape,T18.shape,y_T18.shape)\n",
    "## call the function \n",
    "fold(W18,y_W18,T18,y_T18)"
   ]
  },
  {
   "cell_type": "code",
   "execution_count": 181,
   "metadata": {},
   "outputs": [
    {
     "name": "stdout",
     "output_type": "stream",
     "text": [
      "(180, 4) (180, 1)\n",
      "(60, 4) (60, 1)\n",
      "initial guess of b and w:  1 [0. 0. 0. 0.]\n",
      "Iteration_training:  0 Cost_traing:  59.73881498555116\n",
      "Iteration_training:  5 Cost_traing:  -0.0\n",
      "Iteration_training:  10 Cost_traing:  nan\n",
      "Iteration_training:  15 Cost_traing:  -0.0\n",
      "Iteration_training:  20 Cost_traing:  nan\n",
      "Iteration_training:  25 Cost_traing:  -0.0\n",
      "Iteration_training:  30 Cost_traing:  nan\n",
      "Iteration_training:  35 Cost_traing:  -0.0\n",
      "Iteration_training:  40 Cost_traing:  nan\n",
      "Iteration_training:  45 Cost_traing:  -0.0\n",
      "Iteration_training:  50 Cost_traing:  nan\n",
      "Iteration_training:  55 Cost_traing:  -0.0\n",
      "Iteration_training:  60 Cost_traing:  nan\n",
      "Iteration_training:  65 Cost_traing:  -0.0\n",
      "Iteration_training:  70 Cost_traing:  -0.0\n",
      "Iteration_training:  75 Cost_traing:  nan\n",
      "Iteration_training:  80 Cost_traing:  -0.0\n",
      "Iteration_training:  85 Cost_traing:  nan\n",
      "Iteration_training:  90 Cost_traing:  -0.0\n",
      "Iteration_training:  95 Cost_traing:  nan\n",
      "Final estimates of b and q are:  0.9680754751631837 [-3.12807081 -5.20727731  1.1342577   0.31468222]\n",
      "initial guess of b and w:  1 [0. 0. 0. 0.]\n",
      "Iteration_testing:  0 Cost_testing:  20.0929038190288\n",
      "Iteration_testing:  5 Cost_testing:  -0.0\n",
      "Iteration_testing:  10 Cost_testing:  6.607917916680386e-13\n",
      "Iteration_testing:  15 Cost_testing:  nan\n",
      "Iteration_testing:  20 Cost_testing:  -0.0\n",
      "Iteration_testing:  25 Cost_testing:  nan\n",
      "Iteration_testing:  30 Cost_testing:  -0.0\n",
      "Iteration_testing:  35 Cost_testing:  nan\n",
      "Iteration_testing:  40 Cost_testing:  -0.0\n",
      "Iteration_testing:  45 Cost_testing:  nan\n",
      "Iteration_testing:  50 Cost_testing:  -0.0\n",
      "Iteration_testing:  55 Cost_testing:  nan\n",
      "Iteration_testing:  60 Cost_testing:  -0.0\n",
      "Iteration_testing:  65 Cost_testing:  nan\n",
      "Iteration_testing:  70 Cost_testing:  -0.0\n",
      "Iteration_testing:  75 Cost_testing:  nan\n",
      "Iteration_testing:  80 Cost_testing:  -0.0\n",
      "Iteration_testing:  85 Cost_testing:  nan\n",
      "Iteration_testing:  90 Cost_testing:  -0.0\n",
      "Iteration_testing:  95 Cost_testing:  nan\n",
      "Final estimates of b and q are:  0.8488077050568963 [ 2.57950256 -8.3111329   1.29092584  0.30224944]\n"
     ]
    },
    {
     "name": "stderr",
     "output_type": "stream",
     "text": [
      "C:\\Users\\pallavi\\Anaconda3\\lib\\site-packages\\ipykernel_launcher.py:3: RuntimeWarning: overflow encountered in exp\n",
      "  This is separate from the ipykernel package so we can avoid doing imports until\n",
      "C:\\Users\\pallavi\\Anaconda3\\lib\\site-packages\\ipykernel_launcher.py:3: RuntimeWarning: divide by zero encountered in log\n",
      "  This is separate from the ipykernel package so we can avoid doing imports until\n"
     ]
    }
   ],
   "source": [
    "## fold 4\n",
    "## training fold\n",
    "\n",
    "w19= homework_one_data.iloc[240:300, [3,4,9,6]]\n",
    "ww19 =homework_one_data.iloc[0:120, [3,4,9,6]]\n",
    "W19 = w19.append(ww19)\n",
    "W19 = np.array(W19)\n",
    "\n",
    "Y_w19=homework_one_data.iloc[240:300, 13:14]\n",
    "Y_ww19=homework_one_data.iloc[0:120,13:14]\n",
    "Y_W19 = Y_w19.append(Y_ww19)\n",
    "y_W19 = np.array(Y_W19[['y']])\n",
    "print(W19.shape,y_W19.shape)\n",
    "\n",
    "## testing fold\n",
    "\n",
    "T19= homework_one_data.iloc[120:180, [3,4,9,6]]\n",
    "T19 = np.array(T19)\n",
    "Y_T19 = homework_one_data.iloc[120:180, 13:14]\n",
    "y_T19 = np.array(Y_T19[['y']])\n",
    "print(T19.shape,y_T19.shape)\n",
    "## call the function \n",
    "fold(W19,y_W19,T19,y_T19)\n"
   ]
  },
  {
   "cell_type": "code",
   "execution_count": 182,
   "metadata": {},
   "outputs": [
    {
     "name": "stdout",
     "output_type": "stream",
     "text": [
      "(180, 4) (180, 1)\n",
      "(60, 4) (60, 1)\n",
      "initial guess of b and w:  1 [0. 0. 0. 0.]\n",
      "Iteration_training:  0 Cost_traing:  59.344836479295694\n",
      "Iteration_training:  5 Cost_traing:  -0.0\n",
      "Iteration_training:  10 Cost_traing:  -0.0\n",
      "Iteration_training:  15 Cost_traing:  nan\n",
      "Iteration_training:  20 Cost_traing:  -0.0\n",
      "Iteration_training:  25 Cost_traing:  -0.0\n",
      "Iteration_training:  30 Cost_traing:  nan\n",
      "Iteration_training:  35 Cost_traing:  -0.0\n",
      "Iteration_training:  40 Cost_traing:  -0.0\n",
      "Iteration_training:  45 Cost_traing:  nan\n",
      "Iteration_training:  50 Cost_traing:  -0.0\n",
      "Iteration_training:  55 Cost_traing:  -0.0\n",
      "Iteration_training:  60 Cost_traing:  nan\n",
      "Iteration_training:  65 Cost_traing:  -0.0\n",
      "Iteration_training:  70 Cost_traing:  -0.0\n",
      "Iteration_training:  75 Cost_traing:  nan\n",
      "Iteration_training:  80 Cost_traing:  -0.0\n",
      "Iteration_training:  85 Cost_traing:  -0.0\n",
      "Iteration_training:  90 Cost_traing:  nan\n",
      "Iteration_training:  95 Cost_traing:  -0.0\n",
      "Final estimates of b and q are:  0.9713765580440155 [-1.24473243  0.07023379  1.02108152  0.52972121]\n",
      "initial guess of b and w:  1 [0. 0. 0. 0.]\n",
      "Iteration_testing:  0 Cost_testing:  20.355556156532444\n",
      "Iteration_testing:  5 Cost_testing:  -0.0\n",
      "Iteration_testing:  10 Cost_testing:  nan\n",
      "Iteration_testing:  15 Cost_testing:  -0.0\n",
      "Iteration_testing:  20 Cost_testing:  nan\n",
      "Iteration_testing:  25 Cost_testing:  -0.0\n",
      "Iteration_testing:  30 Cost_testing:  nan\n",
      "Iteration_testing:  35 Cost_testing:  -0.0\n",
      "Iteration_testing:  40 Cost_testing:  nan\n",
      "Iteration_testing:  45 Cost_testing:  -0.0\n",
      "Iteration_testing:  50 Cost_testing:  nan\n",
      "Iteration_testing:  55 Cost_testing:  -0.0\n",
      "Iteration_testing:  60 Cost_testing:  nan\n",
      "Iteration_testing:  65 Cost_testing:  -0.0\n",
      "Iteration_testing:  70 Cost_testing:  nan\n",
      "Iteration_testing:  75 Cost_testing:  7.13569331873338e-10\n",
      "Iteration_testing:  80 Cost_testing:  nan\n",
      "Iteration_testing:  85 Cost_testing:  0.011734082451973826\n",
      "Iteration_testing:  90 Cost_testing:  nan\n",
      "Iteration_testing:  95 Cost_testing:  2.801031041777577e-10\n",
      "Final estimates of b and q are:  1.0093309810240627 [ 4.99031838  4.50571879  1.58161104 -0.15696942]\n"
     ]
    },
    {
     "name": "stderr",
     "output_type": "stream",
     "text": [
      "C:\\Users\\pallavi\\Anaconda3\\lib\\site-packages\\ipykernel_launcher.py:3: RuntimeWarning: overflow encountered in exp\n",
      "  This is separate from the ipykernel package so we can avoid doing imports until\n",
      "C:\\Users\\pallavi\\Anaconda3\\lib\\site-packages\\ipykernel_launcher.py:3: RuntimeWarning: divide by zero encountered in log\n",
      "  This is separate from the ipykernel package so we can avoid doing imports until\n"
     ]
    }
   ],
   "source": [
    "## fold 5\n",
    "## training fold\n",
    "\n",
    "w20= homework_one_data.iloc[180:300,[3,4,9,6]]\n",
    "ww20 =homework_one_data.iloc[0:60,[3,4,9,6]]\n",
    "W20 = w20.append(ww20)\n",
    "W20 = np.array(W20)\n",
    "\n",
    "Y_w20=homework_one_data.iloc[180:300, 13:14]\n",
    "Y_ww20=homework_one_data.iloc[0:60,13:14]\n",
    "Y_W20 = Y_w20.append(Y_ww20)\n",
    "y_W20 = np.array(Y_W20[['y']])\n",
    "print(W20.shape,y_W20.shape)\n",
    "\n",
    "## testing fold\n",
    "\n",
    "T20= homework_one_data.iloc[60:120,[3,4,9,6]]\n",
    "T20 = np.array(T20)\n",
    "Y_T20 = homework_one_data.iloc[60:120, 13:14]\n",
    "y_T20 = np.array(Y_T20[['y']])\n",
    "print(T20.shape,y_T20.shape)\n",
    "## call the function \n",
    "fold(W20,y_W20,T20,y_T20)"
   ]
  }
 ],
 "metadata": {
  "kernelspec": {
   "display_name": "Python 3",
   "language": "python",
   "name": "python3"
  },
  "language_info": {
   "codemirror_mode": {
    "name": "ipython",
    "version": 3
   },
   "file_extension": ".py",
   "mimetype": "text/x-python",
   "name": "python",
   "nbconvert_exporter": "python",
   "pygments_lexer": "ipython3",
   "version": "3.7.0"
  }
 },
 "nbformat": 4,
 "nbformat_minor": 2
}
