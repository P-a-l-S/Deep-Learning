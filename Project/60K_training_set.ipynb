{
  "nbformat": 4,
  "nbformat_minor": 0,
  "metadata": {
    "colab": {
      "name": "60K training set.ipynb",
      "provenance": [],
      "collapsed_sections": []
    },
    "kernelspec": {
      "name": "python3",
      "display_name": "Python 3"
    },
    "accelerator": "GPU"
  },
  "cells": [
    {
      "cell_type": "code",
      "metadata": {
        "id": "cgVZQ43zkAiM",
        "colab_type": "code",
        "outputId": "5cc03b21-45a6-4cdc-988a-62c05a15de67",
        "colab": {
          "base_uri": "https://localhost:8080/",
          "height": 864
        }
      },
      "source": [
        "\n",
        "### FASHION MNIST WITH DATA AUGMENTATION ###\n",
        "\n",
        "# Import libraries\n",
        "from keras.utils import to_categorical\n",
        "from keras.datasets import fashion_mnist\n",
        "import numpy as np\n",
        "from matplotlib import pyplot as plt\n",
        "import matplotlib.pyplot as plt\n",
        "from sklearn.model_selection import train_test_split\n",
        "import sys\n",
        "from keras.datasets import cifar10\n",
        "from keras.utils import to_categorical\n",
        "from keras.models import Sequential\n",
        "from keras.layers import Conv2D\n",
        "from keras.layers import MaxPooling2D\n",
        "from keras.layers import Dense\n",
        "from keras.layers import Flatten\n",
        "from keras.layers import Dropout\n",
        "from keras.optimizers import SGD\n",
        "from tensorflow.keras.preprocessing.image import ImageDataGenerator\n",
        "from keras.preprocessing.image import ImageDataGenerator\n",
        "from keras.models import Sequential\n",
        "from keras.layers import Dense, Dropout, Flatten\n",
        "from keras import losses\n",
        "from keras.layers import Conv2D, MaxPooling2D, BatchNormalization\n",
        "from keras.callbacks import LearningRateScheduler\n",
        "from keras.callbacks import History\n",
        "\n",
        "# Load training and test data into dataframes\n",
        "(trainX, trainY), (testX, testY) =fashion_mnist.load_data()\n",
        "\n",
        "# specify the arguments\n",
        "rotation_range_val = 30\n",
        "width_shift_val = 0.2\n",
        "height_shift_val = 0.2\n",
        "shear_range_val=45\n",
        "zoom_range_val=[0.9,1.1]\n",
        "\n",
        "# create the class object\n",
        "datagen = ImageDataGenerator(rotation_range = rotation_range_val,width_shift_range = width_shift_val,height_shift_range = height_shift_val,zoom_range=zoom_range_val)\n",
        "# fit the generator\n",
        "datagen.fit(trainX.reshape(trainX.shape[0], 28, 28, 1))\n",
        "# define number of rows & columns\n",
        "num_row = 2\n",
        "num_col = 3\n",
        "num= num_row*num_col\n",
        "\n",
        "\"\"\"\n",
        "# plot before\n",
        "print('BEFORE:\\n')\n",
        "# plot images\n",
        "fig1, axes1 = plt.subplots(num_row, num_col, figsize=(1.5*num_col,2*num_row))\n",
        "for i in range(num):\n",
        "     ax = axes1[i//num_col, i%num_col]\n",
        "     ax.imshow(trainX[i], cmap='gray_r')\n",
        "     ax.set_title('Label: {}'.format(trainY[i]))\n",
        "plt.tight_layout()\n",
        "plt.show()\n",
        "# plot after\n",
        "print('AFTER:\\n')\n",
        "fig2, axes2 = plt.subplots(num_row, num_col, figsize=(1.5*num_col,2*num_row))\n",
        "for X, Y in datagen.flow(trainX.reshape(trainX.shape[0], 28, 28, 1),trainY.reshape(trainY.shape[0], 1),batch_size=num,shuffle=False):\n",
        "     for i in range(0, num):\n",
        "          ax = axes2[i//num_col, i%num_col]\n",
        "          ax.imshow(X[i].reshape(28,28), cmap='gray_r')\n",
        "          ax.set_title('Label: {}'.format(int(Y[i])))\n",
        "     break\n",
        "plt.tight_layout()\n",
        "plt.show()\n",
        "\"\"\"\n",
        "\n",
        "trainX = trainX.reshape((trainX.shape[0], 28, 28, 1))\n",
        "testX = testX.reshape((testX.shape[0], 28, 28, 1))\n",
        "\n",
        "trainY = to_categorical(trainY)\n",
        "testY = to_categorical(testY)\n",
        "\n",
        "trainX= trainX.astype('float32')\n",
        "testX = testX.astype('float32')\n",
        "\n",
        "trainX = trainX / 255.0\n",
        "testX = testX / 255.0\n",
        "\n",
        "LearningRate = 0.01\n",
        "EpochNum = 10\n",
        "MomentumVal = 0.9\n",
        "DecayVal = 0.00001\n",
        "NestVal = False\n",
        "LearningRateArray = []\n",
        "\n",
        "print('EPOCH: %d, LR: %.4f, Momentum:%.2f, Decay: %f, Nesterov: %d' % (EpochNum, LearningRate, MomentumVal, DecayVal, NestVal))\n",
        "\n",
        "img_rows, img_cols = 28, 28\n",
        "input_shape = (img_rows, img_cols, 1)\n",
        "\n",
        "cnn4 = Sequential()\n",
        "cnn4.add(Conv2D(32, kernel_size=(3, 3), activation='relu', input_shape=input_shape))\n",
        "cnn4.add(BatchNormalization())\n",
        "\n",
        "cnn4.add(Conv2D(32, kernel_size=(3, 3), activation='relu'))\n",
        "cnn4.add(BatchNormalization())\n",
        "cnn4.add(MaxPooling2D(pool_size=(2, 2)))\n",
        "#cnn4.add(Dropout(0.2))\n",
        "\n",
        "cnn4.add(Conv2D(64, kernel_size=(3, 3), activation='relu'))\n",
        "cnn4.add(BatchNormalization())\n",
        "#cnn4.add(Dropout(0.2))\n",
        "\n",
        "cnn4.add(Conv2D(128, kernel_size=(3, 3), activation='relu'))\n",
        "cnn4.add(BatchNormalization())\n",
        "cnn4.add(MaxPooling2D(pool_size=(2, 2)))\n",
        "#cnn4.add(Dropout(0.2))\n",
        "\n",
        "cnn4.add(Flatten())\n",
        "\n",
        "cnn4.add(Dense(512, activation='relu'))\n",
        "cnn4.add(BatchNormalization())\n",
        "cnn4.add(Dropout(0.2))\n",
        "\n",
        "cnn4.add(Dense(128, activation='relu'))\n",
        "cnn4.add(BatchNormalization())\n",
        "#cnn4.add(Dropout(0.2))\n",
        "\n",
        "cnn4.add(Dense(10, activation='softmax'))\n",
        "opt = SGD(lr=LearningRate, momentum=MomentumVal, nesterov=NestVal, decay=DecayVal )\n",
        "cnn4.compile(optimizer=opt, loss='categorical_crossentropy', metrics=['accuracy'])\n",
        "\n",
        "# define the learning rate change \n",
        "def exp_decay(epoch):\n",
        "    lrate = LearningRate * np.exp(-DecayVal*epoch)\n",
        "    LearningRateArray.append(lrate)\n",
        "    return lrate\n",
        "\n",
        "# learning schedule callback\n",
        "loss_history = History()\n",
        "lr_rate = LearningRateScheduler(exp_decay)\n",
        "callbacks_list = [loss_history, lr_rate]\n",
        "\n",
        "\n",
        "# create data generator\n",
        "# datagen = ImageDataGenerator(width_shift_range=0.1, height_shift_range=0.1, horizontal_flip=True)\n",
        "# prepare iterator\n",
        "it_train = datagen.flow(trainX, trainY, batch_size=64)\n",
        "# fit model\n",
        "steps = int(trainX.shape[0] / 64)\n",
        "history = cnn4.fit_generator(it_train, steps_per_epoch=steps, epochs=EpochNum, callbacks=callbacks_list , validation_data=(testX, testY), verbose=2)\n",
        "\n",
        "plt.subplot(211)\n",
        "plt.plot(history.history['accuracy'], color='blue', label='train')\n",
        "plt.plot(history.history['val_accuracy'], color='orange', label='test')\n",
        "plt.title('model accuracy')\n",
        "plt.ylabel('accuracy')\n",
        "plt.xlabel('epoch')\n",
        "plt.legend(loc='lower right')\n",
        "plt.show()\n",
        "# summarize history for loss\n",
        "plt.subplot(212)\n",
        "plt.plot(history.history['loss'], color='blue', label='train')\n",
        "plt.plot(history.history['val_loss'], color='orange', label='test')\n",
        "plt.title('model loss')\n",
        "plt.ylabel('loss')\n",
        "plt.xlabel('epoch')\n",
        "plt.legend(loc='lower right')\n",
        "plt.show()\n",
        "# summarize history for loss\n",
        "\n",
        "print('EPOCH: %d, LR: %.4f, Momentum:%.2f, Decay: %f, Nesterov: %d' % (EpochNum, LearningRate, MomentumVal, DecayVal, NestVal))\n",
        "\n",
        "\n"
      ],
      "execution_count": 1,
      "outputs": [
        {
          "output_type": "stream",
          "text": [
            "Using TensorFlow backend.\n"
          ],
          "name": "stderr"
        },
        {
          "output_type": "stream",
          "text": [
            "Downloading data from http://fashion-mnist.s3-website.eu-central-1.amazonaws.com/train-labels-idx1-ubyte.gz\n",
            "32768/29515 [=================================] - 0s 0us/step\n",
            "Downloading data from http://fashion-mnist.s3-website.eu-central-1.amazonaws.com/train-images-idx3-ubyte.gz\n",
            "26427392/26421880 [==============================] - 0s 0us/step\n",
            "Downloading data from http://fashion-mnist.s3-website.eu-central-1.amazonaws.com/t10k-labels-idx1-ubyte.gz\n",
            "8192/5148 [===============================================] - 0s 0us/step\n",
            "Downloading data from http://fashion-mnist.s3-website.eu-central-1.amazonaws.com/t10k-images-idx3-ubyte.gz\n",
            "4423680/4422102 [==============================] - 0s 0us/step\n",
            "EPOCH: 10, LR: 0.0100, Momentum:0.90, Decay: 0.000010, Nesterov: 0\n",
            "Epoch 1/10\n",
            " - 34s - loss: 0.7908 - accuracy: 0.7064 - val_loss: 0.6794 - val_accuracy: 0.7514\n",
            "Epoch 2/10\n",
            " - 27s - loss: 0.5863 - accuracy: 0.7825 - val_loss: 0.5915 - val_accuracy: 0.7957\n",
            "Epoch 3/10\n",
            " - 27s - loss: 0.5181 - accuracy: 0.8077 - val_loss: 0.4313 - val_accuracy: 0.8453\n",
            "Epoch 4/10\n",
            " - 26s - loss: 0.4825 - accuracy: 0.8218 - val_loss: 0.4403 - val_accuracy: 0.8363\n",
            "Epoch 5/10\n",
            " - 27s - loss: 0.4570 - accuracy: 0.8325 - val_loss: 0.4253 - val_accuracy: 0.8331\n",
            "Epoch 6/10\n",
            " - 26s - loss: 0.4346 - accuracy: 0.8406 - val_loss: 0.4514 - val_accuracy: 0.8350\n",
            "Epoch 7/10\n",
            " - 26s - loss: 0.4227 - accuracy: 0.8436 - val_loss: 0.4589 - val_accuracy: 0.8375\n",
            "Epoch 8/10\n",
            " - 26s - loss: 0.4088 - accuracy: 0.8499 - val_loss: 0.3765 - val_accuracy: 0.8646\n",
            "Epoch 9/10\n",
            " - 27s - loss: 0.4004 - accuracy: 0.8531 - val_loss: 0.3737 - val_accuracy: 0.8651\n",
            "Epoch 10/10\n",
            " - 27s - loss: 0.3855 - accuracy: 0.8594 - val_loss: 0.3599 - val_accuracy: 0.8672\n"
          ],
          "name": "stdout"
        },
        {
          "output_type": "display_data",
          "data": {
            "image/png": "[encoded data removed]",
            "text/plain": [
              "<Figure size 432x288 with 1 Axes>"
            ]
          },
          "metadata": {
            "tags": [],
            "needs_background": "light"
          }
        },
        {
          "output_type": "display_data",
          "data": {
            "image/png": "[encoded data removed]",
            "text/plain": [
              "<Figure size 432x288 with 1 Axes>"
            ]
          },
          "metadata": {
            "tags": [],
            "needs_background": "light"
          }
        },
        {
          "output_type": "stream",
          "text": [
            "EPOCH: 10, LR: 0.0100, Momentum:0.90, Decay: 0.000010, Nesterov: 0\n"
          ],
          "name": "stdout"
        }
      ]
    },
    {
      "cell_type": "code",
      "metadata": {
        "id": "PpPtCOQipHdU",
        "colab_type": "code",
        "outputId": "a4d0cae3-c6c2-402f-820f-59335cc4360f",
        "colab": {
          "base_uri": "https://localhost:8080/",
          "height": 51
        }
      },
      "source": [
        "cnn4.evaluate(testX, testY, batch_size=64, verbose=1, sample_weight=None, steps=None, callbacks=None, max_queue_size=10, workers=1, use_multiprocessing=False)\n",
        "cnn4.metrics_names"
      ],
      "execution_count": 0,
      "outputs": [
        {
          "output_type": "stream",
          "text": [
            "10000/10000 [==============================] - 1s 60us/step\n"
          ],
          "name": "stdout"
        },
        {
          "output_type": "execute_result",
          "data": {
            "text/plain": [
              "['loss', 'accuracy']"
            ]
          },
          "metadata": {
            "tags": []
          },
          "execution_count": 8
        }
      ]
    },
    {
      "cell_type": "code",
      "metadata": {
        "id": "yHBhj58Am_Kc",
        "colab_type": "code",
        "outputId": "357994cf-08c2-4ba8-afdd-816bbeb6b87e",
        "colab": {
          "base_uri": "https://localhost:8080/",
          "height": 323
        }
      },
      "source": [
        "from sklearn.metrics import classification_report\n",
        "Y_pred = cnn4.predict(testX, batch_size=64, verbose=1)\n",
        "Y_pred_bool = np.argmax(Y_pred, axis=1)\n",
        "\n",
        "import numpy as np\n",
        "Y_t=np.argmax(testY, axis=1)\n",
        "\n",
        "\n",
        "print(classification_report(Y_t, Y_pred_bool))\n"
      ],
      "execution_count": 0,
      "outputs": [
        {
          "output_type": "stream",
          "text": [
            "10000/10000 [==============================] - 1s 60us/step\n",
            "              precision    recall  f1-score   support\n",
            "\n",
            "           0       0.59      0.64      0.62      1000\n",
            "           1       0.98      0.89      0.94      1000\n",
            "           2       0.60      0.60      0.60      1000\n",
            "           3       0.82      0.24      0.38      1000\n",
            "           4       0.44      0.59      0.51      1000\n",
            "           5       0.98      0.79      0.87      1000\n",
            "           6       0.32      0.20      0.25      1000\n",
            "           7       0.80      0.94      0.86      1000\n",
            "           8       0.56      0.97      0.71      1000\n",
            "           9       0.88      0.92      0.90      1000\n",
            "\n",
            "    accuracy                           0.68     10000\n",
            "   macro avg       0.70      0.68      0.66     10000\n",
            "weighted avg       0.70      0.68      0.66     10000\n",
            "\n"
          ],
          "name": "stdout"
        }
      ]
    },
    {
      "cell_type": "code",
      "metadata": {
        "id": "nA75JFMXLO_1",
        "colab_type": "code",
        "colab": {}
      },
      "source": [
        "fashion_classes     = {0: 'T-shirt/top', \n",
        "                       1: 'Trouser', \n",
        "                       2: 'Pullover', \n",
        "                       3: 'Dress', \n",
        "                       4: 'Coat',\n",
        "                       5: 'Sandal', \n",
        "                       6: 'Shirt', \n",
        "                       7: 'Sneaker', \n",
        "                       8: 'Bag', \n",
        "                       9: 'Ankle boot'}\n",
        "\n"
      ],
      "execution_count": 0,
      "outputs": []
    },
    {
      "cell_type": "code",
      "metadata": {
        "id": "KTFbeIgDMWse",
        "colab_type": "code",
        "outputId": "7bc4b24a-a36d-4abc-fefd-a1ebebbdf94d",
        "colab": {
          "base_uri": "https://localhost:8080/",
          "height": 34
        }
      },
      "source": [
        "Y_pred_bool"
      ],
      "execution_count": 0,
      "outputs": [
        {
          "output_type": "execute_result",
          "data": {
            "text/plain": [
              "array([9, 2, 1, ..., 8, 1, 7])"
            ]
          },
          "metadata": {
            "tags": []
          },
          "execution_count": 11
        }
      ]
    },
    {
      "cell_type": "code",
      "metadata": {
        "id": "bApgYkl3LKmq",
        "colab_type": "code",
        "outputId": "2ea3dff9-907b-4cd3-cc21-5f69b9fa7385",
        "colab": {
          "base_uri": "https://localhost:8080/",
          "height": 282
        }
      },
      "source": [
        "\n",
        "%matplotlib inline\n",
        "import matplotlib.pyplot as plt\n",
        "import numpy as np\n",
        "\n",
        "idx = np.random.randint(len(testX))\n",
        "plt.imshow(np.squeeze(testX[idx]), cmap='gray')\n",
        "plt.axis('off')\n",
        "plt.show()\n",
        "\n",
        "print(\"Predict Target :\", fashion_classes[Y_pred_bool[idx]])\n",
        "print(\"True Target :\", fashion_classes[True_Y[idx]])"
      ],
      "execution_count": 0,
      "outputs": [
        {
          "output_type": "display_data",
          "data": {
            "image/png": "[encoded data removed]",
            "text/plain": [
              "<Figure size 432x288 with 1 Axes>"
            ]
          },
          "metadata": {
            "tags": [],
            "needs_background": "light"
          }
        },
        {
          "output_type": "stream",
          "text": [
            "Predict Target : Sneaker\n",
            "True Target : Sneaker\n"
          ],
          "name": "stdout"
        }
      ]
    },
    {
      "cell_type": "code",
      "metadata": {
        "id": "1-PymzNKa3pz",
        "colab_type": "code",
        "outputId": "e9a07b4f-7c01-478c-bf45-94af18ad0766",
        "colab": {
          "base_uri": "https://localhost:8080/",
          "height": 183
        }
      },
      "source": [
        "idx = np.random.randint(len(testX))\n",
        "#plt.imshow(np.squeeze(testX[idx]), cmap='gray')\n",
        "fig = plt.figure()\n",
        "ax1 = fig.add_subplot(2,2,1)\n",
        "ax1.imshow(np.squeeze(testX[idx]), cmap='gray')\n",
        "print(\"Predict Target :\", fashion_classes[Y_pred_bool[idx]])\n",
        "print(\"True Target :\", fashion_classes[True_Y[idx]])\n",
        "\n",
        "\n",
        "plt.show()\n"
      ],
      "execution_count": 0,
      "outputs": [
        {
          "output_type": "stream",
          "text": [
            "Predict Target : Coat\n",
            "True Target : Coat\n"
          ],
          "name": "stdout"
        },
        {
          "output_type": "display_data",
          "data": {
            "image/png": "[encoded data removed]",
            "text/plain": [
              "<Figure size 432x288 with 1 Axes>"
            ]
          },
          "metadata": {
            "tags": [],
            "needs_background": "light"
          }
        }
      ]
    },
    {
      "cell_type": "code",
      "metadata": {
        "id": "oR2PwQ6FwZsq",
        "colab_type": "code",
        "outputId": "d9e19fe6-9185-4d12-a0e7-c8847db7f5cf",
        "colab": {
          "base_uri": "https://localhost:8080/",
          "height": 1000
        }
      },
      "source": [
        "\n",
        "### FASHION MNIST WITHOUT DATA AUGMENTATION ###\n",
        "\n",
        "\n",
        "from keras.utils import to_categorical\n",
        "from keras.datasets import fashion_mnist\n",
        "import numpy as np\n",
        "from matplotlib import pyplot as plt\n",
        "import matplotlib.pyplot as plt\n",
        "from sklearn.model_selection import train_test_split\n",
        "import sys\n",
        "from keras.datasets import cifar10\n",
        "from keras.utils import to_categorical\n",
        "from keras.models import Sequential\n",
        "from keras.layers import Conv2D\n",
        "from keras.layers import MaxPooling2D\n",
        "from keras.layers import Dense\n",
        "from keras.layers import Flatten\n",
        "from keras.layers import Dropout\n",
        "from keras.optimizers import SGD\n",
        "from tensorflow.keras.preprocessing.image import ImageDataGenerator\n",
        "from keras.preprocessing.image import ImageDataGenerator\n",
        "from keras.models import Sequential\n",
        "from keras.layers import Dense, Dropout, Flatten\n",
        "from keras import losses\n",
        "from keras.layers import Conv2D, MaxPooling2D, BatchNormalization\n",
        "\n",
        "# Load training and test data into dataframes\n",
        "(trainX, trainY), (testX, testY) =fashion_mnist.load_data()\n",
        "\n",
        "\n",
        "\n",
        "# create the class object\n",
        "#datagen = ImageDataGenerator(rotation_range = rotation_range_val,width_shift_range = width_shift_val,height_shift_range = height_shift_val,zoom_range=zoom_range_val)\n",
        "# fit the generator\n",
        "#datagen.fit(trainX.reshape(trainX.shape[0], 28, 28, 1))\n",
        "# define number of rows & columns\n",
        "\n",
        "\n",
        "\n",
        "trainX = trainX.reshape((trainX.shape[0], 28, 28, 1))\n",
        "testX = testX.reshape((testX.shape[0], 28, 28, 1))\n",
        "\n",
        "trainY = to_categorical(trainY)\n",
        "testY = to_categorical(testY)\n",
        "\n",
        "trainX= trainX.astype('float32')\n",
        "testX = testX.astype('float32')\n",
        "\n",
        "trainX = trainX / 255.0\n",
        "testX = testX / 255.0\n",
        "\n",
        "LearningRate = 0.01\n",
        "EpochNum = 10\n",
        "MomentumVal = 0.9\n",
        "DecayVal = 0\n",
        "NestVal = False\n",
        "\n",
        "print('EPOCH: %d, LR: %.4f, Momentum:%.2f, Decay: %f, Nesterov: %d' % (EpochNum, LearningRate, MomentumVal, DecayVal, NestVal))\n",
        "\n",
        "img_rows, img_cols = 28, 28\n",
        "input_shape = (img_rows, img_cols, 1)\n",
        "\n",
        "cnn4 = Sequential()\n",
        "cnn4.add(Conv2D(32, kernel_size=(3, 3), activation='relu', input_shape=input_shape))\n",
        "cnn4.add(BatchNormalization())\n",
        "\n",
        "cnn4.add(Conv2D(32, kernel_size=(3, 3), activation='relu'))\n",
        "cnn4.add(BatchNormalization())\n",
        "cnn4.add(MaxPooling2D(pool_size=(2, 2)))\n",
        "#cnn4.add(Dropout(0.2))\n",
        "\n",
        "cnn4.add(Conv2D(64, kernel_size=(3, 3), activation='relu'))\n",
        "cnn4.add(BatchNormalization())\n",
        "#cnn4.add(Dropout(0.2))\n",
        "\n",
        "cnn4.add(Conv2D(128, kernel_size=(3, 3), activation='relu'))\n",
        "cnn4.add(BatchNormalization())\n",
        "cnn4.add(MaxPooling2D(pool_size=(2, 2)))\n",
        "#cnn4.add(Dropout(0.2))\n",
        "\n",
        "cnn4.add(Flatten())\n",
        "\n",
        "cnn4.add(Dense(512, activation='relu'))\n",
        "cnn4.add(BatchNormalization())\n",
        "cnn4.add(Dropout(0.2))\n",
        "\n",
        "cnn4.add(Dense(128, activation='relu'))\n",
        "cnn4.add(BatchNormalization())\n",
        "#cnn4.add(Dropout(0.2))\n",
        "\n",
        "cnn4.add(Dense(10, activation='softmax'))\n",
        "opt = SGD(lr=LearningRate, momentum=MomentumVal, nesterov=NestVal, decay=DecayVal )\n",
        "cnn4.compile(optimizer=opt, loss='categorical_crossentropy', metrics=['accuracy'])\n",
        "\n",
        "cnn4.summary()\n",
        "\n",
        "# create data generator\n",
        "# datagen = ImageDataGenerator(width_shift_range=0.1, height_shift_range=0.1, horizontal_flip=True)\n",
        "# prepare iterator\n",
        "#it_train = datagen.flow(trainX, trainY, batch_size=64)\n",
        "# fit model\n",
        "#steps = int(trainX.shape[0] / 64)\n",
        "#history = cnn4.fit(trainX, trainY, steps_per_epoch=64, epochs=EpochNum, validation_data=(testX, testY), verbose=2)\n",
        "history = cnn4.fit(trainX, trainY,\n",
        "              batch_size=64,\n",
        "              epochs=10,\n",
        "              validation_data=(testX, testY),\n",
        "              shuffle=False)\n",
        "\n",
        "plt.subplot(211)\n",
        "plt.plot(history.history['accuracy'], color='blue', label='train')\n",
        "plt.plot(history.history['val_accuracy'], color='orange', label='test')\n",
        "plt.title('model accuracy')\n",
        "plt.ylabel('accuracy')\n",
        "plt.xlabel('epoch')\n",
        "plt.legend(loc='lower right')\n",
        "plt.show()\n",
        "# summarize history for loss\n",
        "plt.subplot(212)\n",
        "plt.plot(history.history['loss'], color='blue', label='train')\n",
        "plt.plot(history.history['val_loss'], color='orange', label='test')\n",
        "plt.title('model loss')\n",
        "plt.ylabel('loss')\n",
        "plt.xlabel('epoch')\n",
        "plt.legend(loc='lower right')\n",
        "plt.show()"
      ],
      "execution_count": 0,
      "outputs": [
        {
          "output_type": "stream",
          "text": [
            "EPOCH: 10, LR: 0.0100, Momentum:0.90, Decay: 0.000000, Nesterov: 0\n",
            "Model: \"sequential_7\"\n",
            "_________________________________________________________________\n",
            "Layer (type)                 Output Shape              Param #   \n",
            "=================================================================\n",
            "conv2d_25 (Conv2D)           (None, 26, 26, 32)        320       \n",
            "_________________________________________________________________\n",
            "batch_normalization_37 (Batc (None, 26, 26, 32)        128       \n",
            "_________________________________________________________________\n",
            "conv2d_26 (Conv2D)           (None, 24, 24, 32)        9248      \n",
            "_________________________________________________________________\n",
            "batch_normalization_38 (Batc (None, 24, 24, 32)        128       \n",
            "_________________________________________________________________\n",
            "max_pooling2d_13 (MaxPooling (None, 12, 12, 32)        0         \n",
            "_________________________________________________________________\n",
            "conv2d_27 (Conv2D)           (None, 10, 10, 64)        18496     \n",
            "_________________________________________________________________\n",
            "batch_normalization_39 (Batc (None, 10, 10, 64)        256       \n",
            "_________________________________________________________________\n",
            "conv2d_28 (Conv2D)           (None, 8, 8, 128)         73856     \n",
            "_________________________________________________________________\n",
            "batch_normalization_40 (Batc (None, 8, 8, 128)         512       \n",
            "_________________________________________________________________\n",
            "max_pooling2d_14 (MaxPooling (None, 4, 4, 128)         0         \n",
            "_________________________________________________________________\n",
            "flatten_7 (Flatten)          (None, 2048)              0         \n",
            "_________________________________________________________________\n",
            "dense_19 (Dense)             (None, 512)               1049088   \n",
            "_________________________________________________________________\n",
            "batch_normalization_41 (Batc (None, 512)               2048      \n",
            "_________________________________________________________________\n",
            "dropout_7 (Dropout)          (None, 512)               0         \n",
            "_________________________________________________________________\n",
            "dense_20 (Dense)             (None, 128)               65664     \n",
            "_________________________________________________________________\n",
            "batch_normalization_42 (Batc (None, 128)               512       \n",
            "_________________________________________________________________\n",
            "dense_21 (Dense)             (None, 10)                1290      \n",
            "=================================================================\n",
            "Total params: 1,221,546\n",
            "Trainable params: 1,219,754\n",
            "Non-trainable params: 1,792\n",
            "_________________________________________________________________\n",
            "Train on 60000 samples, validate on 10000 samples\n",
            "Epoch 1/10\n",
            "60000/60000 [==============================] - 11s 183us/step - loss: 0.4145 - accuracy: 0.8485 - val_loss: 0.3269 - val_accuracy: 0.8776\n",
            "Epoch 2/10\n",
            "60000/60000 [==============================] - 10s 170us/step - loss: 0.2706 - accuracy: 0.9012 - val_loss: 0.3110 - val_accuracy: 0.8867\n",
            "Epoch 3/10\n",
            "60000/60000 [==============================] - 10s 170us/step - loss: 0.2253 - accuracy: 0.9177 - val_loss: 0.2545 - val_accuracy: 0.9088\n",
            "Epoch 4/10\n",
            "60000/60000 [==============================] - 10s 170us/step - loss: 0.1932 - accuracy: 0.9297 - val_loss: 0.2473 - val_accuracy: 0.9151\n",
            "Epoch 5/10\n",
            "60000/60000 [==============================] - 10s 171us/step - loss: 0.1664 - accuracy: 0.9383 - val_loss: 0.2532 - val_accuracy: 0.9123\n",
            "Epoch 6/10\n",
            "60000/60000 [==============================] - 10s 175us/step - loss: 0.1471 - accuracy: 0.9462 - val_loss: 0.2365 - val_accuracy: 0.9180\n",
            "Epoch 7/10\n",
            "60000/60000 [==============================] - 10s 168us/step - loss: 0.1245 - accuracy: 0.9538 - val_loss: 0.2871 - val_accuracy: 0.9051\n",
            "Epoch 8/10\n",
            "60000/60000 [==============================] - 10s 169us/step - loss: 0.1126 - accuracy: 0.9586 - val_loss: 0.3218 - val_accuracy: 0.9041\n",
            "Epoch 9/10\n",
            "60000/60000 [==============================] - 10s 168us/step - loss: 0.0998 - accuracy: 0.9619 - val_loss: 0.3440 - val_accuracy: 0.9027\n",
            "Epoch 10/10\n",
            "60000/60000 [==============================] - 10s 169us/step - loss: 0.0867 - accuracy: 0.9679 - val_loss: 0.3379 - val_accuracy: 0.9051\n"
          ],
          "name": "stdout"
        },
        {
          "output_type": "display_data",
          "data": {
            "image/png": "[encoded data removed]",
            "text/plain": [
              "<Figure size 432x288 with 1 Axes>"
            ]
          },
          "metadata": {
            "tags": [],
            "needs_background": "light"
          }
        },
        {
          "output_type": "display_data",
          "data": {
            "image/png": "[encoded data removed]",
            "text/plain": [
              "<Figure size 432x288 with 1 Axes>"
            ]
          },
          "metadata": {
            "tags": [],
            "needs_background": "light"
          }
        }
      ]
    },
    {
      "cell_type": "code",
      "metadata": {
        "id": "Sie6gN3MAedU",
        "colab_type": "code",
        "outputId": "4c5e3494-c264-471b-aa0c-9dee0101ed78",
        "colab": {
          "base_uri": "https://localhost:8080/",
          "height": 323
        }
      },
      "source": [
        "from sklearn.metrics import classification_report\n",
        "Y_pred = cnn4.predict(testX, batch_size=64, verbose=1)\n",
        "Y_pred_bool = np.argmax(Y_pred, axis=1)\n",
        "\n",
        "import numpy as np\n",
        "Y_t=np.argmax(testY, axis=1)\n",
        "\n",
        "\n",
        "print(classification_report(Y_t, Y_pred_bool))"
      ],
      "execution_count": 0,
      "outputs": [
        {
          "output_type": "stream",
          "text": [
            "10000/10000 [==============================] - 1s 62us/step\n",
            "              precision    recall  f1-score   support\n",
            "\n",
            "           0       0.81      0.92      0.86      1000\n",
            "           1       1.00      0.97      0.99      1000\n",
            "           2       0.76      0.94      0.84      1000\n",
            "           3       0.88      0.95      0.91      1000\n",
            "           4       0.90      0.74      0.82      1000\n",
            "           5       0.98      0.98      0.98      1000\n",
            "           6       0.85      0.62      0.72      1000\n",
            "           7       0.97      0.97      0.97      1000\n",
            "           8       0.96      0.98      0.97      1000\n",
            "           9       0.97      0.97      0.97      1000\n",
            "\n",
            "    accuracy                           0.91     10000\n",
            "   macro avg       0.91      0.91      0.90     10000\n",
            "weighted avg       0.91      0.91      0.90     10000\n",
            "\n"
          ],
          "name": "stdout"
        }
      ]
    },
    {
      "cell_type": "code",
      "metadata": {
        "id": "bwbgQmeR8Dne",
        "colab_type": "code",
        "outputId": "6dbf028b-ac06-44da-af1a-ddaab16f9a4e",
        "colab": {
          "base_uri": "https://localhost:8080/",
          "height": 1000
        }
      },
      "source": [
        "\n",
        "### MNIST WITH DATA AUGMENTATION ###\n",
        "\n",
        "# Import libraries\n",
        "from keras.utils import to_categorical\n",
        "from keras.datasets import mnist\n",
        "import numpy as np\n",
        "from matplotlib import pyplot as plt\n",
        "import matplotlib.pyplot as plt\n",
        "from sklearn.model_selection import train_test_split\n",
        "import sys\n",
        "from keras.datasets import cifar10\n",
        "from keras.utils import to_categorical\n",
        "from keras.models import Sequential\n",
        "from keras.layers import Conv2D\n",
        "from keras.layers import MaxPooling2D\n",
        "from keras.layers import Dense\n",
        "from keras.layers import Flatten\n",
        "from keras.layers import Dropout\n",
        "from keras.optimizers import SGD\n",
        "from tensorflow.keras.preprocessing.image import ImageDataGenerator\n",
        "from keras.preprocessing.image import ImageDataGenerator\n",
        "from keras.models import Sequential\n",
        "from keras.layers import Dense, Dropout, Flatten\n",
        "from keras import losses\n",
        "from keras.layers import Conv2D, MaxPooling2D, BatchNormalization\n",
        "# Load training and test data into dataframes\n",
        "(trainX, trainY), (testX, testY) =mnist.load_data()\n",
        "\n",
        "# specify the arguments\n",
        "rotation_range_val = 30\n",
        "width_shift_val = 0.2\n",
        "height_shift_val = 0.2\n",
        "shear_range_val=45\n",
        "zoom_range_val=[0.9,1.1]\n",
        "\n",
        "# create the class object\n",
        "datagen = ImageDataGenerator(rotation_range = rotation_range_val,width_shift_range = width_shift_val,height_shift_range = height_shift_val,zoom_range=zoom_range_val)\n",
        "# fit the generator\n",
        "datagen.fit(trainX.reshape(trainX.shape[0], 28, 28, 1))\n",
        "# define number of rows & columns\n",
        "num_row = 2\n",
        "num_col = 3\n",
        "num= num_row*num_col\n",
        "\n",
        "\"\"\"\n",
        "# plot before\n",
        "print('BEFORE:\\n')\n",
        "# plot images\n",
        "fig1, axes1 = plt.subplots(num_row, num_col, figsize=(1.5*num_col,2*num_row))\n",
        "for i in range(num):\n",
        "     ax = axes1[i//num_col, i%num_col]\n",
        "     ax.imshow(trainX[i], cmap='gray_r')\n",
        "     ax.set_title('Label: {}'.format(trainY[i]))\n",
        "plt.tight_layout()\n",
        "plt.show()\n",
        "# plot after\n",
        "print('AFTER:\\n')\n",
        "fig2, axes2 = plt.subplots(num_row, num_col, figsize=(1.5*num_col,2*num_row))\n",
        "for X, Y in datagen.flow(trainX.reshape(trainX.shape[0], 28, 28, 1),trainY.reshape(trainY.shape[0], 1),batch_size=num,shuffle=False):\n",
        "     for i in range(0, num):\n",
        "          ax = axes2[i//num_col, i%num_col]\n",
        "          ax.imshow(X[i].reshape(28,28), cmap='gray_r')\n",
        "          ax.set_title('Label: {}'.format(int(Y[i])))\n",
        "     break\n",
        "plt.tight_layout()\n",
        "plt.show()\n",
        "\"\"\"\n",
        "\n",
        "trainX = trainX.reshape((trainX.shape[0], 28, 28, 1))\n",
        "testX = testX.reshape((testX.shape[0], 28, 28, 1))\n",
        "\n",
        "trainY = to_categorical(trainY)\n",
        "testY = to_categorical(testY)\n",
        "\n",
        "trainX= trainX.astype('float32')\n",
        "testX = testX.astype('float32')\n",
        "\n",
        "trainX = trainX / 255.0\n",
        "testX = testX / 255.0\n",
        "\n",
        "LearningRate = 0.001\n",
        "EpochNum = 1\n",
        "MomentumVal = 0.9\n",
        "DecayVal = 1e-2\n",
        "NestVal = False\n",
        "\n",
        "print('EPOCH: %d, LR: %.4f, Momentum:%.2f, Decay: %f, Nesterov: %d' % (EpochNum, LearningRate, MomentumVal, DecayVal, NestVal))\n",
        "\n",
        "img_rows, img_cols = 28, 28\n",
        "input_shape = (img_rows, img_cols, 1)\n",
        "\n",
        "cnn4 = Sequential()\n",
        "cnn4.add(Conv2D(32, kernel_size=(3, 3), activation='relu', input_shape=input_shape))\n",
        "cnn4.add(BatchNormalization())\n",
        "\n",
        "cnn4.add(Conv2D(32, kernel_size=(3, 3), activation='relu'))\n",
        "cnn4.add(BatchNormalization())\n",
        "cnn4.add(MaxPooling2D(pool_size=(2, 2)))\n",
        "#cnn4.add(Dropout(0.2))\n",
        "\n",
        "cnn4.add(Conv2D(64, kernel_size=(3, 3), activation='relu'))\n",
        "cnn4.add(BatchNormalization())\n",
        "#cnn4.add(Dropout(0.2))\n",
        "\n",
        "cnn4.add(Conv2D(128, kernel_size=(3, 3), activation='relu'))\n",
        "cnn4.add(BatchNormalization())\n",
        "cnn4.add(MaxPooling2D(pool_size=(2, 2)))\n",
        "#cnn4.add(Dropout(0.2))\n",
        "\n",
        "cnn4.add(Flatten())\n",
        "\n",
        "cnn4.add(Dense(512, activation='relu'))\n",
        "cnn4.add(BatchNormalization())\n",
        "cnn4.add(Dropout(0.2))\n",
        "\n",
        "cnn4.add(Dense(128, activation='relu'))\n",
        "cnn4.add(BatchNormalization())\n",
        "#cnn4.add(Dropout(0.2))\n",
        "\n",
        "cnn4.add(Dense(10, activation='softmax'))\n",
        "opt = SGD(lr=LearningRate, momentum=MomentumVal, nesterov=NestVal, decay=DecayVal )\n",
        "cnn4.compile(optimizer=opt, loss='categorical_crossentropy', metrics=['accuracy'])\n",
        "\n",
        "cnn4.summary()\n",
        "\n",
        "# create data generator\n",
        "# datagen = ImageDataGenerator(width_shift_range=0.1, height_shift_range=0.1, horizontal_flip=True)\n",
        "# prepare iterator\n",
        "it_train = datagen.flow(trainX, trainY, batch_size=64)\n",
        "# fit model\n",
        "steps = int(trainX.shape[0] / 64)\n",
        "history = cnn4.fit_generator(it_train, steps_per_epoch=steps, epochs=EpochNum, validation_data=(testX, testY), verbose=2)\n",
        "\n",
        "plt.subplot(211)\n",
        "plt.plot(history.history['accuracy'], color='blue', label='train')\n",
        "plt.plot(history.history['val_accuracy'], color='orange', label='test')\n",
        "plt.title('model accuracy')\n",
        "plt.ylabel('accuracy')\n",
        "plt.xlabel('epoch')\n",
        "plt.legend(loc='lower right')\n",
        "plt.show()\n",
        "# summarize history for loss\n",
        "plt.subplot(212)\n",
        "plt.plot(history.history['loss'], color='blue', label='train')\n",
        "plt.plot(history.history['val_loss'], color='orange', label='test')\n",
        "plt.title('model loss')\n",
        "plt.ylabel('loss')\n",
        "plt.xlabel('epoch')\n",
        "plt.legend(loc='lower right')\n",
        "plt.show()\n",
        "\n",
        "print('EPOCH: %d, LR: %.4f, Momentum:%.2f, Decay: %f, Nesterov: %d' % (EpochNum, LearningRate, MomentumVal, DecayVal, NestVal))\n",
        "trainX.shape"
      ],
      "execution_count": 0,
      "outputs": [
        {
          "output_type": "stream",
          "text": [
            "EPOCH: 1, LR: 0.0010, Momentum:0.90, Decay: 0.010000, Nesterov: 0\n",
            "Model: \"sequential_6\"\n",
            "_________________________________________________________________\n",
            "Layer (type)                 Output Shape              Param #   \n",
            "=================================================================\n",
            "conv2d_21 (Conv2D)           (None, 26, 26, 32)        320       \n",
            "_________________________________________________________________\n",
            "batch_normalization_31 (Batc (None, 26, 26, 32)        128       \n",
            "_________________________________________________________________\n",
            "conv2d_22 (Conv2D)           (None, 24, 24, 32)        9248      \n",
            "_________________________________________________________________\n",
            "batch_normalization_32 (Batc (None, 24, 24, 32)        128       \n",
            "_________________________________________________________________\n",
            "max_pooling2d_11 (MaxPooling (None, 12, 12, 32)        0         \n",
            "_________________________________________________________________\n",
            "conv2d_23 (Conv2D)           (None, 10, 10, 64)        18496     \n",
            "_________________________________________________________________\n",
            "batch_normalization_33 (Batc (None, 10, 10, 64)        256       \n",
            "_________________________________________________________________\n",
            "conv2d_24 (Conv2D)           (None, 8, 8, 128)         73856     \n",
            "_________________________________________________________________\n",
            "batch_normalization_34 (Batc (None, 8, 8, 128)         512       \n",
            "_________________________________________________________________\n",
            "max_pooling2d_12 (MaxPooling (None, 4, 4, 128)         0         \n",
            "_________________________________________________________________\n",
            "flatten_6 (Flatten)          (None, 2048)              0         \n",
            "_________________________________________________________________\n",
            "dense_16 (Dense)             (None, 512)               1049088   \n",
            "_________________________________________________________________\n",
            "batch_normalization_35 (Batc (None, 512)               2048      \n",
            "_________________________________________________________________\n",
            "dropout_6 (Dropout)          (None, 512)               0         \n",
            "_________________________________________________________________\n",
            "dense_17 (Dense)             (None, 128)               65664     \n",
            "_________________________________________________________________\n",
            "batch_normalization_36 (Batc (None, 128)               512       \n",
            "_________________________________________________________________\n",
            "dense_18 (Dense)             (None, 10)                1290      \n",
            "=================================================================\n",
            "Total params: 1,221,546\n",
            "Trainable params: 1,219,754\n",
            "Non-trainable params: 1,792\n",
            "_________________________________________________________________\n",
            "Epoch 1/1\n",
            " - 29s - loss: 0.9847 - accuracy: 0.6879 - val_loss: 0.2515 - val_accuracy: 0.9405\n"
          ],
          "name": "stdout"
        },
        {
          "output_type": "display_data",
          "data": {
            "image/png": "[encoded data removed]",
            "text/plain": [
              "<Figure size 432x288 with 1 Axes>"
            ]
          },
          "metadata": {
            "tags": [],
            "needs_background": "light"
          }
        },
        {
          "output_type": "display_data",
          "data": {
            "image/png": "[encoded data removed]",
            "text/plain": [
              "<Figure size 432x288 with 1 Axes>"
            ]
          },
          "metadata": {
            "tags": [],
            "needs_background": "light"
          }
        },
        {
          "output_type": "stream",
          "text": [
            "EPOCH: 1, LR: 0.0010, Momentum:0.90, Decay: 0.010000, Nesterov: 0\n"
          ],
          "name": "stdout"
        },
        {
          "output_type": "execute_result",
          "data": {
            "text/plain": [
              "(60000, 28, 28, 1)"
            ]
          },
          "metadata": {
            "tags": []
          },
          "execution_count": 6
        }
      ]
    },
    {
      "cell_type": "code",
      "metadata": {
        "id": "1-PJwUrnxJBp",
        "colab_type": "code",
        "outputId": "bf0b9a7a-9070-4a98-b6e6-52139b7136d2",
        "colab": {
          "base_uri": "https://localhost:8080/",
          "height": 162
        }
      },
      "source": [
        "it_train.shape"
      ],
      "execution_count": 0,
      "outputs": [
        {
          "output_type": "error",
          "ename": "AttributeError",
          "evalue": "ignored",
          "traceback": [
            "\u001b[0;31m---------------------------------------------------------------------------\u001b[0m",
            "\u001b[0;31mAttributeError\u001b[0m                            Traceback (most recent call last)",
            "\u001b[0;32m<ipython-input-7-f5e8f723913b>\u001b[0m in \u001b[0;36m<module>\u001b[0;34m()\u001b[0m\n\u001b[0;32m----> 1\u001b[0;31m \u001b[0mit_train\u001b[0m\u001b[0;34m.\u001b[0m\u001b[0mshape\u001b[0m\u001b[0;34m\u001b[0m\u001b[0;34m\u001b[0m\u001b[0m\n\u001b[0m",
            "\u001b[0;31mAttributeError\u001b[0m: 'NumpyArrayIterator' object has no attribute 'shape'"
          ]
        }
      ]
    },
    {
      "cell_type": "code",
      "metadata": {
        "id": "THZ4zh9usBaN",
        "colab_type": "code",
        "outputId": "6d627669-0eb9-47bd-ece1-c110e67a53b6",
        "colab": {
          "base_uri": "https://localhost:8080/",
          "height": 323
        }
      },
      "source": [
        "from sklearn.metrics import classification_report\n",
        "Y_pred = cnn4.predict(testX, batch_size=64, verbose=1)\n",
        "Y_pred_bool = np.argmax(Y_pred, axis=1)\n",
        "\n",
        "import numpy as np\n",
        "Y_t=np.argmax(testY, axis=1)\n",
        "\n",
        "\n",
        "print(classification_report(Y_t, Y_pred_bool))"
      ],
      "execution_count": 0,
      "outputs": [
        {
          "output_type": "stream",
          "text": [
            "10000/10000 [==============================] - 1s 70us/step\n",
            "              precision    recall  f1-score   support\n",
            "\n",
            "           0       0.97      0.98      0.98       980\n",
            "           1       0.99      0.99      0.99      1135\n",
            "           2       0.94      0.97      0.96      1032\n",
            "           3       0.94      0.97      0.96      1010\n",
            "           4       0.98      0.96      0.97       982\n",
            "           5       0.96      0.97      0.97       892\n",
            "           6       0.98      0.97      0.97       958\n",
            "           7       0.97      0.94      0.95      1028\n",
            "           8       0.96      0.97      0.96       974\n",
            "           9       0.97      0.92      0.95      1009\n",
            "\n",
            "    accuracy                           0.97     10000\n",
            "   macro avg       0.97      0.97      0.97     10000\n",
            "weighted avg       0.97      0.97      0.97     10000\n",
            "\n"
          ],
          "name": "stdout"
        }
      ]
    },
    {
      "cell_type": "code",
      "metadata": {
        "id": "OMvr2slyoRoC",
        "colab_type": "code",
        "outputId": "ed08dd94-33b2-4a60-a748-d386951b4f08",
        "colab": {
          "base_uri": "https://localhost:8080/",
          "height": 1000
        }
      },
      "source": [
        "\n",
        "### MNIST WITHOUT DATA AUGMENTATION ###\n",
        "\n",
        "from keras.utils import to_categorical\n",
        "from keras.datasets import mnist\n",
        "import numpy as np\n",
        "from matplotlib import pyplot as plt\n",
        "import matplotlib.pyplot as plt\n",
        "from sklearn.model_selection import train_test_split\n",
        "import sys\n",
        "from keras.datasets import cifar10\n",
        "from keras.utils import to_categorical\n",
        "from keras.models import Sequential\n",
        "from keras.layers import Conv2D\n",
        "from keras.layers import MaxPooling2D\n",
        "from keras.layers import Dense\n",
        "from keras.layers import Flatten\n",
        "from keras.layers import Dropout\n",
        "from keras.optimizers import SGD\n",
        "from tensorflow.keras.preprocessing.image import ImageDataGenerator\n",
        "from keras.preprocessing.image import ImageDataGenerator\n",
        "from keras.models import Sequential\n",
        "from keras.layers import Dense, Dropout, Flatten\n",
        "from keras import losses\n",
        "from keras.layers import Conv2D, MaxPooling2D, BatchNormalization\n",
        "\n",
        "# Load training and test data into dataframes\n",
        "(trainX, trainY), (testX, testY) =mnist.load_data()\n",
        "\n",
        "\n",
        "# create the class object\n",
        "#datagen = ImageDataGenerator(rotation_range = rotation_range_val,width_shift_range = width_shift_val,height_shift_range = height_shift_val,zoom_range=zoom_range_val)\n",
        "# fit the generator\n",
        "#datagen.fit(trainX.reshape(trainX.shape[0], 28, 28, 1))\n",
        "# define number of rows & columns\n",
        "\n",
        "\n",
        "trainX = trainX.reshape((trainX.shape[0], 28, 28, 1))\n",
        "testX = testX.reshape((testX.shape[0], 28, 28, 1))\n",
        "\n",
        "trainY = to_categorical(trainY)\n",
        "testY = to_categorical(testY)\n",
        "\n",
        "trainX= trainX.astype('float32')\n",
        "testX = testX.astype('float32')\n",
        "\n",
        "trainX = trainX / 255.0\n",
        "testX = testX / 255.0\n",
        "\n",
        "LearningRate = 0.01\n",
        "EpochNum = 10\n",
        "MomentumVal = 0.9\n",
        "DecayVal = 0\n",
        "NestVal = False\n",
        "\n",
        "print('EPOCH: %d, LR: %.4f, Momentum:%.2f, Decay: %f, Nesterov: %d' % (EpochNum, LearningRate, MomentumVal, DecayVal, NestVal))\n",
        "\n",
        "img_rows, img_cols = 28, 28\n",
        "input_shape = (img_rows, img_cols, 1)\n",
        "\n",
        "cnn4 = Sequential()\n",
        "cnn4.add(Conv2D(32, kernel_size=(3, 3), activation='relu', input_shape=input_shape))\n",
        "cnn4.add(BatchNormalization())\n",
        "\n",
        "cnn4.add(Conv2D(32, kernel_size=(3, 3), activation='relu'))\n",
        "cnn4.add(BatchNormalization())\n",
        "cnn4.add(MaxPooling2D(pool_size=(2, 2)))\n",
        "#cnn4.add(Dropout(0.2))\n",
        "\n",
        "cnn4.add(Conv2D(64, kernel_size=(3, 3), activation='relu'))\n",
        "cnn4.add(BatchNormalization())\n",
        "#cnn4.add(Dropout(0.2))\n",
        "\n",
        "cnn4.add(Conv2D(128, kernel_size=(3, 3), activation='relu'))\n",
        "cnn4.add(BatchNormalization())\n",
        "cnn4.add(MaxPooling2D(pool_size=(2, 2)))\n",
        "#cnn4.add(Dropout(0.2))\n",
        "\n",
        "cnn4.add(Flatten())\n",
        "\n",
        "cnn4.add(Dense(512, activation='relu'))\n",
        "cnn4.add(BatchNormalization())\n",
        "cnn4.add(Dropout(0.2))\n",
        "\n",
        "cnn4.add(Dense(128, activation='relu'))\n",
        "cnn4.add(BatchNormalization())\n",
        "#cnn4.add(Dropout(0.2))\n",
        "\n",
        "cnn4.add(Dense(10, activation='softmax'))\n",
        "opt = SGD(lr=LearningRate, momentum=MomentumVal, nesterov=NestVal, decay=DecayVal )\n",
        "cnn4.compile(optimizer=opt, loss='categorical_crossentropy', metrics=['accuracy'])\n",
        "\n",
        "cnn4.summary()\n",
        "\n",
        "# create data generator\n",
        "# datagen = ImageDataGenerator(width_shift_range=0.1, height_shift_range=0.1, horizontal_flip=True)\n",
        "# prepare iterator\n",
        "#it_train = datagen.flow(trainX, trainY, batch_size=64)\n",
        "# fit model\n",
        "#steps = int(trainX.shape[0] / 64)\n",
        "#history = cnn4.fit(trainX, trainY, steps_per_epoch=64, epochs=EpochNum, validation_data=(testX, testY), verbose=2)\n",
        "history = cnn4.fit(trainX, trainY,\n",
        "              batch_size=64,\n",
        "              epochs=10,\n",
        "              validation_data=(testX, testY),\n",
        "              shuffle=False)\n",
        "\n",
        "plt.subplot(211)\n",
        "plt.plot(history.history['accuracy'], color='blue', label='train')\n",
        "plt.plot(history.history['val_accuracy'], color='orange', label='test')\n",
        "plt.title('model accuracy')\n",
        "plt.ylabel('accuracy')\n",
        "plt.xlabel('epoch')\n",
        "plt.legend(loc='lower right')\n",
        "plt.show()\n",
        "# summarize history for loss\n",
        "plt.subplot(212)\n",
        "plt.plot(history.history['loss'], color='blue', label='train')\n",
        "plt.plot(history.history['val_loss'], color='orange', label='test')\n",
        "plt.title('model loss')\n",
        "plt.ylabel('loss')\n",
        "plt.xlabel('epoch')\n",
        "plt.legend(loc='lower right')\n",
        "plt.show()"
      ],
      "execution_count": 0,
      "outputs": [
        {
          "output_type": "stream",
          "text": [
            "Using TensorFlow backend.\n"
          ],
          "name": "stderr"
        },
        {
          "output_type": "stream",
          "text": [
            "Downloading data from https://s3.amazonaws.com/img-datasets/mnist.npz\n",
            "11493376/11490434 [==============================] - 1s 0us/step\n",
            "EPOCH: 10, LR: 0.0100, Momentum:0.90, Decay: 0.000000, Nesterov: 0\n",
            "Model: \"sequential_1\"\n",
            "_________________________________________________________________\n",
            "Layer (type)                 Output Shape              Param #   \n",
            "=================================================================\n",
            "conv2d_1 (Conv2D)            (None, 26, 26, 32)        320       \n",
            "_________________________________________________________________\n",
            "batch_normalization_1 (Batch (None, 26, 26, 32)        128       \n",
            "_________________________________________________________________\n",
            "conv2d_2 (Conv2D)            (None, 24, 24, 32)        9248      \n",
            "_________________________________________________________________\n",
            "batch_normalization_2 (Batch (None, 24, 24, 32)        128       \n",
            "_________________________________________________________________\n",
            "max_pooling2d_1 (MaxPooling2 (None, 12, 12, 32)        0         \n",
            "_________________________________________________________________\n",
            "conv2d_3 (Conv2D)            (None, 10, 10, 64)        18496     \n",
            "_________________________________________________________________\n",
            "batch_normalization_3 (Batch (None, 10, 10, 64)        256       \n",
            "_________________________________________________________________\n",
            "conv2d_4 (Conv2D)            (None, 8, 8, 128)         73856     \n",
            "_________________________________________________________________\n",
            "batch_normalization_4 (Batch (None, 8, 8, 128)         512       \n",
            "_________________________________________________________________\n",
            "max_pooling2d_2 (MaxPooling2 (None, 4, 4, 128)         0         \n",
            "_________________________________________________________________\n",
            "flatten_1 (Flatten)          (None, 2048)              0         \n",
            "_________________________________________________________________\n",
            "dense_1 (Dense)              (None, 512)               1049088   \n",
            "_________________________________________________________________\n",
            "batch_normalization_5 (Batch (None, 512)               2048      \n",
            "_________________________________________________________________\n",
            "dropout_1 (Dropout)          (None, 512)               0         \n",
            "_________________________________________________________________\n",
            "dense_2 (Dense)              (None, 128)               65664     \n",
            "_________________________________________________________________\n",
            "batch_normalization_6 (Batch (None, 128)               512       \n",
            "_________________________________________________________________\n",
            "dense_3 (Dense)              (None, 10)                1290      \n",
            "=================================================================\n",
            "Total params: 1,221,546\n",
            "Trainable params: 1,219,754\n",
            "Non-trainable params: 1,792\n",
            "_________________________________________________________________\n",
            "Train on 60000 samples, validate on 10000 samples\n",
            "Epoch 1/10\n",
            "60000/60000 [==============================] - 19s 320us/step - loss: 0.0993 - accuracy: 0.9696 - val_loss: 0.0361 - val_accuracy: 0.9867\n",
            "Epoch 2/10\n",
            "60000/60000 [==============================] - 11s 189us/step - loss: 0.0327 - accuracy: 0.9907 - val_loss: 0.0289 - val_accuracy: 0.9903\n",
            "Epoch 3/10\n",
            "60000/60000 [==============================] - 11s 188us/step - loss: 0.0208 - accuracy: 0.9936 - val_loss: 0.0280 - val_accuracy: 0.9906\n",
            "Epoch 4/10\n",
            "60000/60000 [==============================] - 11s 188us/step - loss: 0.0127 - accuracy: 0.9966 - val_loss: 0.0248 - val_accuracy: 0.9916\n",
            "Epoch 5/10\n",
            "60000/60000 [==============================] - 11s 189us/step - loss: 0.0081 - accuracy: 0.9982 - val_loss: 0.0229 - val_accuracy: 0.9926\n",
            "Epoch 6/10\n",
            "60000/60000 [==============================] - 11s 187us/step - loss: 0.0050 - accuracy: 0.9990 - val_loss: 0.0215 - val_accuracy: 0.9926\n",
            "Epoch 7/10\n",
            "60000/60000 [==============================] - 11s 188us/step - loss: 0.0041 - accuracy: 0.9991 - val_loss: 0.0227 - val_accuracy: 0.9925\n",
            "Epoch 8/10\n",
            "60000/60000 [==============================] - 11s 191us/step - loss: 0.0030 - accuracy: 0.9994 - val_loss: 0.0196 - val_accuracy: 0.9937\n",
            "Epoch 9/10\n",
            "60000/60000 [==============================] - 11s 190us/step - loss: 0.0018 - accuracy: 0.9998 - val_loss: 0.0192 - val_accuracy: 0.9942\n",
            "Epoch 10/10\n",
            "60000/60000 [==============================] - 11s 191us/step - loss: 0.0012 - accuracy: 0.9999 - val_loss: 0.0173 - val_accuracy: 0.9950\n"
          ],
          "name": "stdout"
        },
        {
          "output_type": "display_data",
          "data": {
            "image/png": "[encoded data removed]",
            "text/plain": [
              "<Figure size 432x288 with 1 Axes>"
            ]
          },
          "metadata": {
            "tags": [],
            "needs_background": "light"
          }
        },
        {
          "output_type": "display_data",
          "data": {
            "image/png": "[encoded data removed]",
            "text/plain": [
              "<Figure size 432x288 with 1 Axes>"
            ]
          },
          "metadata": {
            "tags": [],
            "needs_background": "light"
          }
        }
      ]
    },
    {
      "cell_type": "code",
      "metadata": {
        "id": "MNBaAnkGoUj-",
        "colab_type": "code",
        "outputId": "6007c2c0-87ea-425a-e747-0e6e191dcb08",
        "colab": {
          "base_uri": "https://localhost:8080/",
          "height": 319
        }
      },
      "source": [
        "from sklearn.metrics import classification_report\n",
        "Y_pred = cnn4.predict(testX, batch_size=64, verbose=1)\n",
        "Y_pred_bool = np.argmax(Y_pred, axis=1)\n",
        "\n",
        "import numpy as np\n",
        "Y_t=np.argmax(testY, axis=1)\n",
        "\n",
        "\n",
        "print(classification_report(Y_t, Y_pred_bool))"
      ],
      "execution_count": 0,
      "outputs": [
        {
          "output_type": "stream",
          "text": [
            "10000/10000 [==============================] - 1s 67us/step\n",
            "              precision    recall  f1-score   support\n",
            "\n",
            "           0       0.99      1.00      1.00       980\n",
            "           1       0.99      1.00      1.00      1135\n",
            "           2       1.00      1.00      1.00      1032\n",
            "           3       1.00      1.00      1.00      1010\n",
            "           4       0.99      1.00      0.99       982\n",
            "           5       0.99      0.99      0.99       892\n",
            "           6       1.00      0.99      0.99       958\n",
            "           7       1.00      0.99      0.99      1028\n",
            "           8       1.00      1.00      1.00       974\n",
            "           9       0.99      0.99      0.99      1009\n",
            "\n",
            "    accuracy                           0.99     10000\n",
            "   macro avg       1.00      0.99      0.99     10000\n",
            "weighted avg       1.00      0.99      0.99     10000\n",
            "\n"
          ],
          "name": "stdout"
        }
      ]
    },
    {
      "cell_type": "code",
      "metadata": {
        "id": "SBkNopfcqX_C",
        "colab_type": "code",
        "colab": {}
      },
      "source": [
        ""
      ],
      "execution_count": 0,
      "outputs": []
    }
  ]
}